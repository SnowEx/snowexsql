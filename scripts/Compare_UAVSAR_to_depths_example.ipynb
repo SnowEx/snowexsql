{
 "cells": [
  {
   "cell_type": "markdown",
   "metadata": {},
   "source": [
    "# Compare Snow Depths with Interferogram\n",
    "\n",
    "**Goal**: Compare the insar phase to snowdepths\n",
    "\n",
    "**Approach**: \n",
    "1. Define an area to study the relationship \n",
    "2. Grab the snow depths from the magnaprobe in the area\n",
    "3. Grab the real and imaginary pixels nearest the magna probe locations \n",
    "4. Plot it\n",
    "\n",
    "\n",
    "### Step 1:  Define an Area to Compare Depths to Interferogram"
   ]
  },
  {
   "cell_type": "code",
   "execution_count": 1,
   "metadata": {},
   "outputs": [
    {
     "name": "stdout",
     "output_type": "stream",
     "text": [
      "[('POINT(745458 4322762)',)]\n",
      "[('POINT(745458 4322762)',)]\n"
     ]
    },
    {
     "ename": "TypeError",
     "evalue": "to_shape() got an unexpected keyword argument 'srid'",
     "output_type": "error",
     "traceback": [
      "\u001b[0;31m---------------------------------------------------------------------------\u001b[0m",
      "\u001b[0;31mTypeError\u001b[0m                                 Traceback (most recent call last)",
      "\u001b[0;32m<ipython-input-1-a2839579bf57>\u001b[0m in \u001b[0;36m<module>\u001b[0;34m\u001b[0m\n\u001b[1;32m     32\u001b[0m \u001b[0mq\u001b[0m \u001b[0;34m=\u001b[0m \u001b[0msession\u001b[0m\u001b[0;34m.\u001b[0m\u001b[0mquery\u001b[0m\u001b[0;34m(\u001b[0m\u001b[0mgfunc\u001b[0m\u001b[0;34m.\u001b[0m\u001b[0mST_Buffer\u001b[0m\u001b[0;34m(\u001b[0m\u001b[0mpoint\u001b[0m\u001b[0;34m[\u001b[0m\u001b[0;36m0\u001b[0m\u001b[0;34m]\u001b[0m\u001b[0;34m[\u001b[0m\u001b[0;36m0\u001b[0m\u001b[0;34m]\u001b[0m\u001b[0;34m,\u001b[0m \u001b[0mbuffer_dist\u001b[0m\u001b[0;34m)\u001b[0m\u001b[0;34m)\u001b[0m\u001b[0;34m\u001b[0m\u001b[0;34m\u001b[0m\u001b[0m\n\u001b[1;32m     33\u001b[0m \u001b[0mbuffered_pit\u001b[0m \u001b[0;34m=\u001b[0m \u001b[0mq\u001b[0m\u001b[0;34m.\u001b[0m\u001b[0mall\u001b[0m\u001b[0;34m(\u001b[0m\u001b[0;34m)\u001b[0m\u001b[0;34m[\u001b[0m\u001b[0;36m0\u001b[0m\u001b[0;34m]\u001b[0m\u001b[0;34m[\u001b[0m\u001b[0;36m0\u001b[0m\u001b[0;34m]\u001b[0m\u001b[0;34m\u001b[0m\u001b[0;34m\u001b[0m\u001b[0m\n\u001b[0;32m---> 34\u001b[0;31m \u001b[0mprint\u001b[0m\u001b[0;34m(\u001b[0m\u001b[0mto_shape\u001b[0m\u001b[0;34m(\u001b[0m\u001b[0mbuffered_pit\u001b[0m\u001b[0;34m,\u001b[0m\u001b[0msrid\u001b[0m\u001b[0;34m=\u001b[0m\u001b[0;36m26912\u001b[0m\u001b[0;34m)\u001b[0m\u001b[0;34m)\u001b[0m\u001b[0;34m\u001b[0m\u001b[0;34m\u001b[0m\u001b[0m\n\u001b[0m",
      "\u001b[0;31mTypeError\u001b[0m: to_shape() got an unexpected keyword argument 'srid'"
     ]
    }
   ],
   "source": [
    "from snowxsql.data import PointData, ImageData, SiteData \n",
    "from snowxsql.db import get_db\n",
    "from snowxsql.conversions import points_to_geopandas\n",
    "from snowxsql.functions import ST_PixelAsPoint\n",
    "import geoalchemy2.functions as gfunc\n",
    "from geoalchemy2.types import Raster\n",
    "from geoalchemy2.shape import to_shape\n",
    "\n",
    "from sqlalchemy.sql import func\n",
    "import geopandas as gpd\n",
    "import numpy as np \n",
    "\n",
    "# PIT Site Identifier\n",
    "site_id = '5S31'\n",
    "\n",
    "# Distance around the pit to collect data in meters\n",
    "buffer_dist = 50\n",
    "\n",
    "# Connect to the database we made.\n",
    "db_name = 'snowex'\n",
    "engine, session = get_db(db_name)\n",
    "\n",
    "# Grab our pit location by provided site id from the site details table\n",
    "q = session.query(SiteData).filter(SiteData.site_id == site_id)\n",
    "sites = q.all()\n",
    "print(session.query(gfunc.ST_AsText(sites[0].geom)).all())\n",
    "# There can be different dates at a single site, so we only grab one to retrieve the geometry object\n",
    "point = session.query(sites[0].geom.ST_AsText()).limit(1).all()\n",
    "print(point)\n",
    "\n",
    "# Create a polygon buffered by our distance centered on the pit\n",
    "q = session.query(gfunc.ST_Buffer(point[0][0], buffer_dist))\n",
    "buffered_pit = q.all()[0][0]\n",
    "print(to_shape(buffered_pit,srid=26912))"
   ]
  },
  {
   "cell_type": "markdown",
   "metadata": {},
   "source": [
    "### Step 2: Grab all the Snow Depths in the Area"
   ]
  },
  {
   "cell_type": "code",
   "execution_count": null,
   "metadata": {},
   "outputs": [],
   "source": [
    "# Grab all the point data in the buffer\n",
    "points = session.query(PointData).filter(gfunc.ST_Within(PointData.geom.ST_AsText(), buffered_pit.ST_AsText())).all()\n",
    "\n",
    "# Convert the records received to geopandas\n",
    "df = points_to_geopandas(points)"
   ]
  },
  {
   "cell_type": "markdown",
   "metadata": {},
   "source": [
    "### Step 3: Grab near polygons of pixels in the area"
   ]
  },
  {
   "cell_type": "code",
   "execution_count": null,
   "metadata": {},
   "outputs": [],
   "source": [
    "# Loop over all the points\n",
    "session.rollback()\n",
    "q = session.query(func.ST_PixelAsPolygons(func.ST_Union(ImageData.raster, type_=Raster)))\n",
    "q = q.filter(ImageData.type == 'insar interferogram imaginary')\n",
    "q = q.filter(gfunc.ST_Intersects(ImageData.raster, buffered_pit))\n",
    "pixels = q.all()\n",
    "print(pixels)\n",
    "\n",
    "#pixel = session.query(ST_PixelAsPoint(ImageData.raster,1 ,1)).filter(ImageData.type.contains('interferogram')).limit(1).all()\n",
    "#print(pixel)"
   ]
  },
  {
   "cell_type": "code",
   "execution_count": null,
   "metadata": {},
   "outputs": [],
   "source": []
  }
 ],
 "metadata": {
  "kernelspec": {
   "display_name": "Python 3",
   "language": "python",
   "name": "python3"
  },
  "language_info": {
   "codemirror_mode": {
    "name": "ipython",
    "version": 3
   },
   "file_extension": ".py",
   "mimetype": "text/x-python",
   "name": "python",
   "nbconvert_exporter": "python",
   "pygments_lexer": "ipython3",
   "version": "3.8.2"
  }
 },
 "nbformat": 4,
 "nbformat_minor": 4
}
