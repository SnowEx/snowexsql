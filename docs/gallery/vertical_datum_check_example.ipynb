{
 "cells": [
  {
   "cell_type": "markdown",
   "metadata": {},
   "source": [
    "# Find Data Closest to a Point\n",
    "\n",
    "**Goal**: Find a pit closest to a known point\n",
    "\n",
    "**Approach**: \n",
    "\n",
    "\n",
    "## Process:\n",
    "\n",
    "### Step 1. "
   ]
  },
  {
   "cell_type": "code",
   "execution_count": 29,
   "metadata": {},
   "outputs": [],
   "source": [
    "from snowxsql.db import get_db\n",
    "from snowxsql.data import SiteData\n",
    "from sqlalchemy.sql import func\n",
    "import geoalchemy2.functions as gfunc\n",
    "from geoalchemy2.types import Raster\n",
    "from geoalchemy2.shape import to_shape, from_shape\n",
    "import geopandas as gpd\n",
    "from snowxsql.conversions import raster_to_rasterio, points_to_geopandas, query_to_geopandas\n",
    "import matplotlib.pyplot as plt\n",
    "import numpy as np\n",
    "from shapely.geometry import Point, Polygon\n",
    "\n",
    "# On HWY 65 (39.029871, -108.049127)\n",
    "p = Point(753809, 4325346)\n",
    "p_ewkt = from_shape(p, srid=26912)\n",
    "buffer_dist = 500\n",
    "\n",
    "\n",
    "# Get our connection\n",
    "engine, session = get_db('snowex')\n",
    "\n",
    "# Build a polygon  using the buffer distance \n",
    "x1 = p.x - buffer_dist\n",
    "y1 = p.y - buffer_dist\n",
    "x2 = p.x + buffer_dist\n",
    "y2 = p.y + buffer_dist\n",
    "\n",
    "# Make two versions. 1 for working directly with the DB and one for plotting\n",
    "extent_shp = Polygon([[x1, y1], [x1, y2], [x2, y2], [x2, y1]])       # Construct it using shapely\n",
    "extent = from_shape(extent_shp, srid=26912).ST_AsEWKT()        # Save one for the database"
   ]
  },
  {
   "cell_type": "markdown",
   "metadata": {},
   "source": [
    "### Step 2."
   ]
  },
  {
   "cell_type": "code",
   "execution_count": null,
   "metadata": {},
   "outputs": [],
   "source": []
  }
 ],
 "metadata": {
  "kernelspec": {
   "display_name": "Python 3",
   "language": "python",
   "name": "python3"
  },
  "language_info": {
   "codemirror_mode": {
    "name": "ipython",
    "version": 3
   },
   "file_extension": ".py",
   "mimetype": "text/x-python",
   "name": "python",
   "nbconvert_exporter": "python",
   "pygments_lexer": "ipython3",
   "version": "3.8.5"
  }
 },
 "nbformat": 4,
 "nbformat_minor": 4
}
