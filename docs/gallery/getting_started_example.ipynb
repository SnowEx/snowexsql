{
 "cells": [
  {
   "cell_type": "markdown",
   "metadata": {},
   "source": [
    "# Getting Started With Python and Postgresql\n",
    "This python package (snowexsql) is python package that provides easy access to the entire postgresql database. Here is how you establish a connection:"
   ]
  },
  {
   "cell_type": "code",
   "execution_count": 1,
   "metadata": {},
   "outputs": [],
   "source": [
    "# Import the functions we need from the python snowexsql library\n",
    "from snowexsql.db import get_db\n",
    "\n",
    "# If you followed the install instructions the database name should be snowex\n",
    "db_name = 'db.snowexdata.org/snowex'\n",
    "\n",
    "# Using the function get_db, we receive 2 ways to interact with the database\n",
    "engine, session = get_db(db_name, credentials='./credentials.json')"
   ]
  },
  {
   "cell_type": "markdown",
   "metadata": {},
   "source": [
    "### Using the Engine Object\n",
    "The `engine` object returned from the `get_db` function is not used much in the snowexsql library. It does allow you to use typical SQL \n",
    "strings to interact with the database. \n",
    "\n",
    "**Note**: Users who have used python + SQL before will likely be more familiar with this approach. Additionally those who don't know python but know SQL will also be more comfortable here.\n"
   ]
  },
  {
   "cell_type": "code",
   "execution_count": 2,
   "metadata": {},
   "outputs": [
    {
     "name": "stdout",
     "output_type": "stream",
     "text": [
      "5N15, 2S20, 2N13, 7S50, 7S23, 8N33, 9N30, 6S53, 6S32, 8N35, 9N39, 5N10, 8S41, 2N49, 6N17, TLSFL2A, 5N11, 2S45, 1C14, 8C26, 2C2, 2C9, 8S28, 9C28, 2C4, 1C7, 1C1, 4C30, 2C6, 6C24, 2N12, 8C22, 1C8, 2C3, 6C10, GML, 9C23, 8C31, 8C32, 5C27, 1S17, 6N16, 3N26, 1C1, 1S2, 2S16, 1N1, 9N28, 2S7, 2N8, 2S10, 8C18, 1N20, 8S18, 8C29, 6S22, 9C16, 8C11, 8N9, 8C36, 1S13, 6S15, 8C35, 2S4, 2S9, 8N54, 6S34, 5S49, 8N37, 9N47, 3S52, 8N52, 5S42, 9N42, 5S29, 8N51, 2S46, 2S27, 6S44, 7N40, 3S33, 9N43, 9N56, 6C37, 3S5, 6S19, 2S3, 1S1, 2S25, 5S43, 2S48, 2S36, 5S24, 9S51, 8S30, 3S47, FL1B, 5N24, 6S26, 2C12, 5N32, 2C13, 1C5, 9N29, 4N27, 8N34, 2C33, 9C17, 5C21, 8C25, 5S31, 2S35, 9C19, 6N36, 5C20, 6N31, 8N38, 7C15, 5N41, 9N44, 5N50, 3S14, 1S8, 5S21, 9S39, 2S37, 6N46, 8N45, 2N48, 6C34, 2S11, 3S38, 9S40, 1N3, 2N21, 2N14, 2S6, 1N7, 1N23, 1N5, 1S12, FL2A, 5N10, 2N4, 3N22, 5N19, 4N2, 7N57, 1N6, 3N53, 6N18, 8N55, 9N59, 8N25, 8N58\n",
      "\n"
     ]
    }
   ],
   "source": [
    "# First connect to the db\n",
    "conn = engine.connect()\n",
    "\n",
    "# Form a typical SQL query and use python to populate the table name\n",
    "qry = \"SELECT site_id FROM sites\"\n",
    "\n",
    "# Then we execute the sql command and collect the results\n",
    "results = conn.execute(qry)\n",
    "\n",
    "# Create a nice readable string to print the site names using python \n",
    "out = ', '.join((row['site_id'] for row in results))\n",
    "\n",
    "# Print it with a line return for readability\n",
    "print(out + '\\n')\n",
    "\n",
    "# Close your connections to avoid hanging transactions \n",
    "conn.close()\n"
   ]
  },
  {
   "cell_type": "markdown",
   "metadata": {},
   "source": [
    "### Using the Session Object\n",
    "The session object allows a user to interact with the database in a pure python form. This approach is called Object Relational Mapping (ORM). This is important because its super handy when your are googling for help. \n",
    "\n",
    "ORM *maps* the database tables and their columns to a python class and attributes. Here is how it works:\n",
    "    "
   ]
  },
  {
   "cell_type": "code",
   "execution_count": 3,
   "metadata": {},
   "outputs": [
    {
     "name": "stdout",
     "output_type": "stream",
     "text": [
      "5N15, 2S20, 2N13, 7S50, 7S23, 8N33, 9N30, 6S53, 6S32, 8N35, 9N39, 5N10, 8S41, 2N49, 6N17, TLSFL2A, 5N11, 2S45, 1C14, 8C26, 2C2, 2C9, 8S28, 9C28, 2C4, 1C7, 1C1, 4C30, 2C6, 6C24, 2N12, 8C22, 1C8, 2C3, 6C10, GML, 9C23, 8C31, 8C32, 5C27, 1S17, 6N16, 3N26, 1C1, 1S2, 2S16, 1N1, 9N28, 2S7, 2N8, 2S10, 8C18, 1N20, 8S18, 8C29, 6S22, 9C16, 8C11, 8N9, 8C36, 1S13, 6S15, 8C35, 2S4, 2S9, 8N54, 6S34, 5S49, 8N37, 9N47, 3S52, 8N52, 5S42, 9N42, 5S29, 8N51, 2S46, 2S27, 6S44, 7N40, 3S33, 9N43, 9N56, 6C37, 3S5, 6S19, 2S3, 1S1, 2S25, 5S43, 2S48, 2S36, 5S24, 9S51, 8S30, 3S47, FL1B, 5N24, 6S26, 2C12, 5N32, 2C13, 1C5, 9N29, 4N27, 8N34, 2C33, 9C17, 5C21, 8C25, 5S31, 2S35, 9C19, 6N36, 5C20, 6N31, 8N38, 7C15, 5N41, 9N44, 5N50, 3S14, 1S8, 5S21, 9S39, 2S37, 6N46, 8N45, 2N48, 6C34, 2S11, 3S38, 9S40, 1N3, 2N21, 2N14, 2S6, 1N7, 1N23, 1N5, 1S12, FL2A, 5N10, 2N4, 3N22, 5N19, 4N2, 7N57, 1N6, 3N53, 6N18, 8N55, 9N59, 8N25, 8N58\n",
      "\n"
     ]
    }
   ],
   "source": [
    "# Import the table classes from our data module which is where our ORM classes are defined \n",
    "from  snowexsql.data import SiteData, PointData, LayerData, ImageData\n",
    "\n",
    "# Form the query to receive all the site_id from the sites table\n",
    "qry = session.query(SiteData.site_id)\n",
    "\n",
    "# Execute the query and collect the result\n",
    "results = qry.all()\n",
    "\n",
    "# Form a nice string for readability\n",
    "out = ', '.join([row[0] for row in list(results)])\n",
    "\n",
    "# Print it with a line return for readability\n",
    "print(out + '\\n')\n"
   ]
  },
  {
   "cell_type": "code",
   "execution_count": 4,
   "metadata": {},
   "outputs": [],
   "source": [
    "# Close your session to avoid hanging transactions\n",
    "session.close()"
   ]
  },
  {
   "cell_type": "code",
   "execution_count": null,
   "metadata": {},
   "outputs": [],
   "source": []
  }
 ],
 "metadata": {
  "kernelspec": {
   "display_name": "Python 3",
   "language": "python",
   "name": "python3"
  },
  "language_info": {
   "codemirror_mode": {
    "name": "ipython",
    "version": 3
   },
   "file_extension": ".py",
   "mimetype": "text/x-python",
   "name": "python",
   "nbconvert_exporter": "python",
   "pygments_lexer": "ipython3",
   "version": "3.8.10"
  }
 },
 "nbformat": 4,
 "nbformat_minor": 4
}
