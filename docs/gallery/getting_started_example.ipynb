{
 "cells": [
  {
   "cell_type": "markdown",
   "metadata": {},
   "source": [
    "# Getting Started With Python and Postgresql\n",
    "This python package (snowxsql) is python package that provides easy access to the entire postgresql database. Here is how you establish a connection:"
   ]
  },
  {
   "cell_type": "code",
   "execution_count": 1,
   "metadata": {},
   "outputs": [],
   "source": [
    "# Import the functions we need from the python snowxsql library\n",
    "from snowxsql.db import get_db\n",
    "\n",
    "# If you followed the install instructions the database name should be snowex\n",
    "db_name = 'snowex'\n",
    "\n",
    "# Using the function get_db, we receive 2 ways to interact with the database\n",
    "engine, session = get_db(db_name)\n"
   ]
  },
  {
   "cell_type": "markdown",
   "metadata": {},
   "source": [
    "### Using the Engine Object\n",
    "The `engine` object returned from the `get_db` function is not used much in the snowxsql library. It does allow you to use typical SQL \n",
    "strings to interact with the database. \n",
    "\n",
    "**Note**: Users who have used python + SQL before will likely be more familiar with this approach. Additionally those who don't know python but know SQL will also be more comfortable here.\n"
   ]
  },
  {
   "cell_type": "code",
   "execution_count": 3,
   "metadata": {},
   "outputs": [
    {
     "name": "stdout",
     "output_type": "stream",
     "text": [
      "2S46, 8C31, 9N43, 4N27, 2S9, 8N45, 1S13, 8C18, 9N30, 2C3, 1S17, 8C29, 6C10, 4C30, 1S2, 2C12, 7N57, 1C5, 2N12, 9N47, 5N15, 6S34, 9S51, 1S8, 3S14, 3S38, 8C35, 6N18, Skyway Tree, 2C13, 5S31, County Line Tree, 5S24, 5N50, 6N16, 5S42, 8N35, 6C24, 5S43, 8N9, 9C28, 2S7, 6S15, 1N5, 7N40, 6N17, 1N7, 2N49, 8C11, 9N44, Lodge, 2S36, 1N1, 8N25, 2C6, 2S20, 6N31, 6N36, County Line Tree, 8N33, 1C7, 8S28, 8N51, 5N32, 5S21, 5C20, 2N4, 6S44, 1C8, 5N10, County Line Open, 2N13, 2C33, 1N23, 2S25, 9N28, 8C36, 2S48, 1N6, 2C9, Skyway Tree, 1C1, Skyway Open, 9N29, 3S33, 2S37, 2S45, 2S4, 1N20, 2S11, 2N14, 5S49, 9S40, 5S29, 4N2, 5N11, 8N55, 9N56, 1S1, 9S39, 5N24, 6C34, Skyway Tree, 9N42, 1C14, 9C23, 5N10, 5N19, 8C25, 8C22, 3N53, 8N58, TLSFL2A, 9N39, 2S35, 1C1, 6S26, 2S6, 6S22, Skyway Open, 8N52, 3N22, 7S50, 2N21, 8N37, 2C4, Skyway Open, 6S53, 8C32, 9N59, 3S47, 5N41, 5C27, Skyway Open, 7C15, 9C19, County Line Tree, 3S5, 5C21, 6S32, 3S52, 2S27, 2S10, County Line Open, 8S41, 3N26, 7S23, 2S16, 9C17, 8N38, 2S3, 6C37, 6S19, 2N8, FL2A, 2N48, 8C26, 1N3, 8S18, FL1B, 8S30, 1S12, 6N46, 8N54, 8N34, 2C2, 9C16\n",
      "\n"
     ]
    }
   ],
   "source": [
    "# First connect to the db\n",
    "conn = engine.connect()\n",
    "\n",
    "# Form a typical SQL query and use python to populate the table name\n",
    "qry = \"SELECT site_id FROM sites\"\n",
    "\n",
    "# Then we execute the sql command and collect the results\n",
    "results = conn.execute(qry)\n",
    "\n",
    "# Create a nice readable string to print the site names using python \n",
    "out = ', '.join((row['site_id'] for row in results))\n",
    "\n",
    "# Print it with a line return for readability\n",
    "print(out + '\\n')\n",
    "\n",
    "# Close your connections to avoid hanging transactions \n",
    "conn.close()\n"
   ]
  },
  {
   "cell_type": "markdown",
   "metadata": {},
   "source": [
    "### Using the Session Object\n",
    "The session object allows a user to interact with the database in a pure python form. This approach is called Object Relational Mapping (ORM). This is important because its super handy when your are googling for help. \n",
    "\n",
    "ORM *maps* the database tables and their columns to a python class and attributes. Here is how it works:\n",
    "    "
   ]
  },
  {
   "cell_type": "code",
   "execution_count": 9,
   "metadata": {},
   "outputs": [
    {
     "name": "stdout",
     "output_type": "stream",
     "text": [
      "2S46, 8C31, 9N43, 4N27, 2S9, 8N45, 1S13, 8C18, 9N30, 2C3, 1S17, 8C29, 6C10, 4C30, 1S2, 2C12, 7N57, 1C5, 2N12, 9N47, 5N15, 6S34, 9S51, 1S8, 3S14, 3S38, 8C35, 6N18, Skyway Tree, 2C13, 5S31, County Line Tree, 5S24, 5N50, 6N16, 5S42, 8N35, 6C24, 5S43, 8N9, 9C28, 2S7, 6S15, 1N5, 7N40, 6N17, 1N7, 2N49, 8C11, 9N44, Lodge, 2S36, 1N1, 8N25, 2C6, 2S20, 6N31, 6N36, County Line Tree, 8N33, 1C7, 8S28, 8N51, 5N32, 5S21, 5C20, 2N4, 6S44, 1C8, 5N10, County Line Open, 2N13, 2C33, 1N23, 2S25, 9N28, 8C36, 2S48, 1N6, 2C9, Skyway Tree, 1C1, Skyway Open, 9N29, 3S33, 2S37, 2S45, 2S4, 1N20, 2S11, 2N14, 5S49, 9S40, 5S29, 4N2, 5N11, 8N55, 9N56, 1S1, 9S39, 5N24, 6C34, Skyway Tree, 9N42, 1C14, 9C23, 5N10, 5N19, 8C25, 8C22, 3N53, 8N58, TLSFL2A, 9N39, 2S35, 1C1, 6S26, 2S6, 6S22, Skyway Open, 8N52, 3N22, 7S50, 2N21, 8N37, 2C4, Skyway Open, 6S53, 8C32, 9N59, 3S47, 5N41, 5C27, Skyway Open, 7C15, 9C19, County Line Tree, 3S5, 5C21, 6S32, 3S52, 2S27, 2S10, County Line Open, 8S41, 3N26, 7S23, 2S16, 9C17, 8N38, 2S3, 6C37, 6S19, 2N8, FL2A, 2N48, 8C26, 1N3, 8S18, FL1B, 8S30, 1S12, 6N46, 8N54, 8N34, 2C2, 9C16\n",
      "\n"
     ]
    }
   ],
   "source": [
    "# Import the table classes from our data module which is where our ORM classes are defined \n",
    "from  snowxsql.data import SiteData, PointData, LayerData, ImageData\n",
    "\n",
    "# Form the query to receive all the site_id from the sites table\n",
    "qry = session.query(SiteData.site_id)\n",
    "\n",
    "# Execute the query and collect the result\n",
    "results = qry.all()\n",
    "\n",
    "# Form a nice string for readability\n",
    "out = ', '.join([row[0] for row in list(results)])\n",
    "\n",
    "# Print it with a line return for readability\n",
    "print(out + '\\n')\n"
   ]
  },
  {
   "cell_type": "code",
   "execution_count": null,
   "metadata": {},
   "outputs": [],
   "source": [
    "# Close your session to avoid hanging transactions\n",
    "session.close()"
   ]
  }
 ],
 "metadata": {
  "kernelspec": {
   "display_name": "Python 3",
   "language": "python",
   "name": "python3"
  },
  "language_info": {
   "codemirror_mode": {
    "name": "ipython",
    "version": 3
   },
   "file_extension": ".py",
   "mimetype": "text/x-python",
   "name": "python",
   "nbconvert_exporter": "python",
   "pygments_lexer": "ipython3",
   "version": "3.8.5"
  }
 },
 "nbformat": 4,
 "nbformat_minor": 4
}
