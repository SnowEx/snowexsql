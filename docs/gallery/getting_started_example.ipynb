{
 "cells": [
  {
   "cell_type": "markdown",
   "metadata": {},
   "source": [
    "# Getting Started With Python and Postgresql\n",
    "This python package (snowxsql) is python package that provides easy access to the entire postgresql database. Here is how you establish a connection:"
   ]
  },
  {
   "cell_type": "code",
   "execution_count": 19,
   "metadata": {},
   "outputs": [],
   "source": [
    "# Import the functions we need from the python snowxsql library\n",
    "from snowxsql.db import get_db\n",
    "\n",
    "# If you followed the install instructions the database name should be snowex\n",
    "db_name = 'snowex'\n",
    "\n",
    "# Using the function get_db, we receive 2 ways to interact with the database\n",
    "engine, session = get_db(db_name)\n"
   ]
  },
  {
   "cell_type": "markdown",
   "metadata": {},
   "source": [
    "### Using the Engine Object\n",
    "The `engine` object returned from the `get_db` function is not used much in the snowxsql library. It does allow you to use typical SQL \n",
    "strings to interact with the database. \n",
    "\n",
    "**Note**: Users who have used python + SQL before will likely be more familiar with this approach. Additionally those who don't know python but know SQL will also be more comfortable here.\n"
   ]
  },
  {
   "cell_type": "code",
   "execution_count": 20,
   "metadata": {},
   "outputs": [
    {
     "name": "stdout",
     "output_type": "stream",
     "text": [
      "6C34, 1C7, 2N48, 2S9, 9N39, Skyway Open, 2S27, 8N54, 1S1, 2C4, 6N46, 5S42, 2S11, 5N11, 7N40, 1S13, 5N10, 9S40, 8N37, 2S10, County Line Tree, FL2A, 2S36, 2S16, 5C27, 4N27, 6S26, 8C35, 9N43, County Line Tree, 5N24, 8N9, 6S19, 2N21, 8C25, 8N45, 5S43, 2C2, Skyway Tree, 5C20, 9N44, 3N26, 2S48, 9N47, 9C17, 8C22, 2N14, 8N38, 3S33, 8N25, 8C18, 8C31, 8S28, 8C32, 8N51, 6C10, 6N17, 6S32, 4C30, 5N10, 5S24, 8N58, 6N31, 2N8, 1N20, 1C1, 2S7, 1N7, 8S30, 1S8, 8S41, 9N42, 3N53, 2S35, FL1B, 6S22, 6S53, 1N1, 8N33, 1N5, 2N12, TLSFL2A, 5S49, 8N52, 8C29, 4N2, 3S14, 8C36, 9N56, 7N57, 2N49, County Line Tree, 9N59, 1C8, 2N13, 1N6, 2S46, 2C9, 7C15, Skyway Tree, 3S5, 6S34, 5N15, 9C23, 9C19, 5N50, 9N28, 2S45, Lodge, County Line Open, 5S31, 3S38, 1S17, 8S18, 8C11, Skyway Open, 1C1, 2C3, 7S50, 5N32, 2S25, 5N19, 9C16, 8N35, Skyway Open, 9S51, 9N30, 1N23, 1S12, 2C12, 7S23, 1C5, 6N36, 1C14, 2C6, Skyway Tree, County Line Open, 5N41, 1N3, 2S4, 9N29, 8C26, 1S2, 9S39, 3S52, 6N16, 2S37, 5C21, 2C13, 2S6, 5S21, 6S44, 6S15, 3S47, 3N22, 6C37, 6C24, 6N18, 8N34, 5S29, Skyway Open, 8N55, 2S20, 2S3, 2N4, 2C33, 9C28\n",
      "\n"
     ]
    }
   ],
   "source": [
    "# First connect to the db\n",
    "conn = engine.connect()\n",
    "\n",
    "# Form a typical SQL query and use python to populate the table name\n",
    "qry = \"SELECT site_id FROM sites\".format(table)\n",
    "\n",
    "# Then we execute the sql command and collect the results\n",
    "results = conn.execute(qry)\n",
    "\n",
    "# Create a nice readable string to print the site names using python \n",
    "out = ', '.join((row['site_id'] for row in results))\n",
    "\n",
    "# Print it with a line return for readability\n",
    "print(out + '\\n')\n",
    "\n",
    "# Close your connections to avoid hanging transactions \n",
    "conn.close()\n"
   ]
  },
  {
   "cell_type": "markdown",
   "metadata": {},
   "source": [
    "### Using the Session Object\n",
    "The session object allows a user to interact with the database in a pure python form. This approach is called Object Relational Mapping (ORM). This is important because its super handy when your are googling for help. \n",
    "\n",
    "ORM *maps* the database tables and their columns to a python class and attributes. Here is how it works:\n",
    "    "
   ]
  },
  {
   "cell_type": "code",
   "execution_count": 21,
   "metadata": {},
   "outputs": [
    {
     "name": "stdout",
     "output_type": "stream",
     "text": [
      "6C34, 1C7, 2N48, 2S9, 9N39, Skyway Open, 2S27, 8N54, 1S1, 2C4, 6N46, 5S42, 2S11, 5N11, 7N40, 1S13, 5N10, 9S40, 8N37, 2S10, County Line Tree, FL2A, 2S36, 2S16, 5C27, 4N27, 6S26, 8C35, 9N43, County Line Tree, 5N24, 8N9, 6S19, 2N21, 8C25, 8N45, 5S43, 2C2, Skyway Tree, 5C20, 9N44, 3N26, 2S48, 9N47, 9C17, 8C22, 2N14, 8N38, 3S33, 8N25, 8C18, 8C31, 8S28, 8C32, 8N51, 6C10, 6N17, 6S32, 4C30, 5N10, 5S24, 8N58, 6N31, 2N8, 1N20, 1C1, 2S7, 1N7, 8S30, 1S8, 8S41, 9N42, 3N53, 2S35, FL1B, 6S22, 6S53, 1N1, 8N33, 1N5, 2N12, TLSFL2A, 5S49, 8N52, 8C29, 4N2, 3S14, 8C36, 9N56, 7N57, 2N49, County Line Tree, 9N59, 1C8, 2N13, 1N6, 2S46, 2C9, 7C15, Skyway Tree, 3S5, 6S34, 5N15, 9C23, 9C19, 5N50, 9N28, 2S45, Lodge, County Line Open, 5S31, 3S38, 1S17, 8S18, 8C11, Skyway Open, 1C1, 2C3, 7S50, 5N32, 2S25, 5N19, 9C16, 8N35, Skyway Open, 9S51, 9N30, 1N23, 1S12, 2C12, 7S23, 1C5, 6N36, 1C14, 2C6, Skyway Tree, County Line Open, 5N41, 1N3, 2S4, 9N29, 8C26, 1S2, 9S39, 3S52, 6N16, 2S37, 5C21, 2C13, 2S6, 5S21, 6S44, 6S15, 3S47, 3N22, 6C37, 6C24, 6N18, 8N34, 5S29, Skyway Open, 8N55, 2S20, 2S3, 2N4, 2C33, 9C28\n",
      "\n"
     ]
    }
   ],
   "source": [
    "# Import the table classes from our data module which is where our ORM classes are defined \n",
    "from  snowxsql.data import SiteData, PointData, LayerData, ImageData\n",
    "\n",
    "# Form the query to receive all the site_id from the sites table\n",
    "qry = session.query(SiteData.site_id)\n",
    "\n",
    "# Execute the query and collect the result\n",
    "results = qry.all()\n",
    "\n",
    "# Form a nice string for readability\n",
    "out = ', '.join(row for row in results)\n",
    "\n",
    "# Print it with a line return for readability\n",
    "print(out + '\\n')\n",
    "\n",
    "# Close your session to avoid hanging transactions\n",
    "session.close()"
   ]
  }
 ],
 "metadata": {
  "kernelspec": {
   "display_name": "Python 3",
   "language": "python",
   "name": "python3"
  },
  "language_info": {
   "codemirror_mode": {
    "name": "ipython",
    "version": 3
   },
   "file_extension": ".py",
   "mimetype": "text/x-python",
   "name": "python",
   "nbconvert_exporter": "python",
   "pygments_lexer": "ipython3",
   "version": "3.7.5"
  }
 },
 "nbformat": 4,
 "nbformat_minor": 4
}
