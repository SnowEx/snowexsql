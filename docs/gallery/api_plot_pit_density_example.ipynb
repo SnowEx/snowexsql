{
 "cells": [
  {
   "cell_type": "markdown",
   "metadata": {},
   "source": [
    "# Welcome to the API PT2!\n",
    "\n",
    "## Data Edition\n",
    "\n",
    "#### Goal - Filter down to the pit density we want and plot it"
   ]
  },
  {
   "cell_type": "markdown",
   "metadata": {},
   "source": [
    "### Step 1. Imports"
   ]
  },
  {
   "cell_type": "code",
   "execution_count": 5,
   "metadata": {},
   "outputs": [],
   "source": [
    "# imports\n",
    "from datetime import date\n",
    "import geopandas as gpd\n",
    "import matplotlib.pyplot as plt\n",
    "from snowexsql.api import PointMeasurements, LayerMeasurements"
   ]
  },
  {
   "cell_type": "markdown",
   "metadata": {},
   "source": [
    "### Step 2. Find the pits in the Boise River Basin"
   ]
  },
  {
   "cell_type": "code",
   "execution_count": 4,
   "metadata": {},
   "outputs": [
    {
     "name": "stdout",
     "output_type": "stream",
     "text": [
      "[('Cameron Pass',), ('Sagehen Creek',), ('Fraser Experimental Forest',), ('Mammoth Lakes',), ('Niwot Ridge',), ('Boise River Basin',), ('Little Cottonwood Canyon',), ('East River',), ('American River Basin',), ('Senator Beck',), ('Jemez River',), ('Grand Mesa',)]\n"
     ]
    }
   ],
   "source": [
    "# Find site names we can use\n",
    "print(LayerMeasurements().all_site_names)"
   ]
  },
  {
   "cell_type": "code",
   "execution_count": 6,
   "metadata": {},
   "outputs": [
    {
     "data": {
      "text/html": [
       "<div style=\"width:100%;\"><div style=\"position:relative;width:100%;height:0;padding-bottom:60%;\"><span style=\"color:#565656\">Make this Notebook Trusted to load map: File -> Trust Notebook</span><iframe srcdoc=\"&lt;!DOCTYPE html&gt;\n",
       "&lt;head&gt;    \n",
       "    &lt;meta http-equiv=&quot;content-type&quot; content=&quot;text/html; charset=UTF-8&quot; /&gt;\n",
       "    \n",
       "        &lt;script&gt;\n",
       "            L_NO_TOUCH = false;\n",
       "            L_DISABLE_3D = false;\n",
       "        &lt;/script&gt;\n",
       "    \n",
       "    &lt;style&gt;html, body {width: 100%;height: 100%;margin: 0;padding: 0;}&lt;/style&gt;\n",
       "    &lt;style&gt;#map {position:absolute;top:0;bottom:0;right:0;left:0;}&lt;/style&gt;\n",
       "    &lt;script src=&quot;https://cdn.jsdelivr.net/npm/leaflet@1.6.0/dist/leaflet.js&quot;&gt;&lt;/script&gt;\n",
       "    &lt;script src=&quot;https://code.jquery.com/jquery-1.12.4.min.js&quot;&gt;&lt;/script&gt;\n",
       "    &lt;script src=&quot;https://maxcdn.bootstrapcdn.com/bootstrap/3.2.0/js/bootstrap.min.js&quot;&gt;&lt;/script&gt;\n",
       "    &lt;script src=&quot;https://cdnjs.cloudflare.com/ajax/libs/Leaflet.awesome-markers/2.0.2/leaflet.awesome-markers.js&quot;&gt;&lt;/script&gt;\n",
       "    &lt;link rel=&quot;stylesheet&quot; href=&quot;https://cdn.jsdelivr.net/npm/leaflet@1.6.0/dist/leaflet.css&quot;/&gt;\n",
       "    &lt;link rel=&quot;stylesheet&quot; href=&quot;https://maxcdn.bootstrapcdn.com/bootstrap/3.2.0/css/bootstrap.min.css&quot;/&gt;\n",
       "    &lt;link rel=&quot;stylesheet&quot; href=&quot;https://maxcdn.bootstrapcdn.com/bootstrap/3.2.0/css/bootstrap-theme.min.css&quot;/&gt;\n",
       "    &lt;link rel=&quot;stylesheet&quot; href=&quot;https://maxcdn.bootstrapcdn.com/font-awesome/4.6.3/css/font-awesome.min.css&quot;/&gt;\n",
       "    &lt;link rel=&quot;stylesheet&quot; href=&quot;https://cdnjs.cloudflare.com/ajax/libs/Leaflet.awesome-markers/2.0.2/leaflet.awesome-markers.css&quot;/&gt;\n",
       "    &lt;link rel=&quot;stylesheet&quot; href=&quot;https://cdn.jsdelivr.net/gh/python-visualization/folium/folium/templates/leaflet.awesome.rotate.min.css&quot;/&gt;\n",
       "    \n",
       "            &lt;meta name=&quot;viewport&quot; content=&quot;width=device-width,\n",
       "                initial-scale=1.0, maximum-scale=1.0, user-scalable=no&quot; /&gt;\n",
       "            &lt;style&gt;\n",
       "                #map_6a49ec106fb6c645478abcf3f42e3064 {\n",
       "                    position: relative;\n",
       "                    width: 100.0%;\n",
       "                    height: 100.0%;\n",
       "                    left: 0.0%;\n",
       "                    top: 0.0%;\n",
       "                }\n",
       "            &lt;/style&gt;\n",
       "        \n",
       "    \n",
       "                    &lt;style&gt;\n",
       "                        .foliumtooltip {\n",
       "                            \n",
       "                        }\n",
       "                       .foliumtooltip table{\n",
       "                            margin: auto;\n",
       "                        }\n",
       "                        .foliumtooltip tr{\n",
       "                            text-align: left;\n",
       "                        }\n",
       "                        .foliumtooltip th{\n",
       "                            padding: 2px; padding-right: 8px;\n",
       "                        }\n",
       "                    &lt;/style&gt;\n",
       "            \n",
       "&lt;/head&gt;\n",
       "&lt;body&gt;    \n",
       "    \n",
       "            &lt;div class=&quot;folium-map&quot; id=&quot;map_6a49ec106fb6c645478abcf3f42e3064&quot; &gt;&lt;/div&gt;\n",
       "        \n",
       "&lt;/body&gt;\n",
       "&lt;script&gt;    \n",
       "    \n",
       "            var map_6a49ec106fb6c645478abcf3f42e3064 = L.map(\n",
       "                &quot;map_6a49ec106fb6c645478abcf3f42e3064&quot;,\n",
       "                {\n",
       "                    center: [44.020470002804714, -115.67818999993847],\n",
       "                    crs: L.CRS.EPSG3857,\n",
       "                    zoom: 10,\n",
       "                    zoomControl: true,\n",
       "                    preferCanvas: false,\n",
       "                }\n",
       "            );\n",
       "            L.control.scale().addTo(map_6a49ec106fb6c645478abcf3f42e3064);\n",
       "\n",
       "            \n",
       "\n",
       "        \n",
       "    \n",
       "            var tile_layer_d77a42b10ad4dfccec8abd71477c15bd = L.tileLayer(\n",
       "                &quot;https://{s}.tile.openstreetmap.org/{z}/{x}/{y}.png&quot;,\n",
       "                {&quot;attribution&quot;: &quot;Data by \\u0026copy; \\u003ca href=\\&quot;http://openstreetmap.org\\&quot;\\u003eOpenStreetMap\\u003c/a\\u003e, under \\u003ca href=\\&quot;http://www.openstreetmap.org/copyright\\&quot;\\u003eODbL\\u003c/a\\u003e.&quot;, &quot;detectRetina&quot;: false, &quot;maxNativeZoom&quot;: 18, &quot;maxZoom&quot;: 18, &quot;minZoom&quot;: 0, &quot;noWrap&quot;: false, &quot;opacity&quot;: 1, &quot;subdomains&quot;: &quot;abc&quot;, &quot;tms&quot;: false}\n",
       "            ).addTo(map_6a49ec106fb6c645478abcf3f42e3064);\n",
       "        \n",
       "    \n",
       "            map_6a49ec106fb6c645478abcf3f42e3064.fitBounds(\n",
       "                [[43.73630000273898, -116.12187999996466], [44.30464000287045, -115.23449999991226]],\n",
       "                {}\n",
       "            );\n",
       "        \n",
       "    \n",
       "        function geo_json_4e8bb1634e7c700b7a86b4632321e862_styler(feature) {\n",
       "            switch(feature.id) {\n",
       "                default:\n",
       "                    return {&quot;fillOpacity&quot;: 0.5, &quot;weight&quot;: 2};\n",
       "            }\n",
       "        }\n",
       "        function geo_json_4e8bb1634e7c700b7a86b4632321e862_highlighter(feature) {\n",
       "            switch(feature.id) {\n",
       "                default:\n",
       "                    return {&quot;fillOpacity&quot;: 0.75};\n",
       "            }\n",
       "        }\n",
       "        function geo_json_4e8bb1634e7c700b7a86b4632321e862_pointToLayer(feature, latlng) {\n",
       "            var opts = {&quot;bubblingMouseEvents&quot;: true, &quot;color&quot;: &quot;#3388ff&quot;, &quot;dashArray&quot;: null, &quot;dashOffset&quot;: null, &quot;fill&quot;: true, &quot;fillColor&quot;: &quot;#3388ff&quot;, &quot;fillOpacity&quot;: 0.2, &quot;fillRule&quot;: &quot;evenodd&quot;, &quot;lineCap&quot;: &quot;round&quot;, &quot;lineJoin&quot;: &quot;round&quot;, &quot;opacity&quot;: 1.0, &quot;radius&quot;: 2, &quot;stroke&quot;: true, &quot;weight&quot;: 3};\n",
       "            \n",
       "            let style = geo_json_4e8bb1634e7c700b7a86b4632321e862_styler(feature)\n",
       "            Object.assign(opts, style)\n",
       "            \n",
       "            return new L.CircleMarker(latlng, opts)\n",
       "        }\n",
       "\n",
       "        function geo_json_4e8bb1634e7c700b7a86b4632321e862_onEachFeature(feature, layer) {\n",
       "            layer.on({\n",
       "                mouseout: function(e) {\n",
       "                    if(typeof e.target.setStyle === &quot;function&quot;){\n",
       "                        geo_json_4e8bb1634e7c700b7a86b4632321e862.resetStyle(e.target);\n",
       "                    }\n",
       "                },\n",
       "                mouseover: function(e) {\n",
       "                    if(typeof e.target.setStyle === &quot;function&quot;){\n",
       "                        const highlightStyle = geo_json_4e8bb1634e7c700b7a86b4632321e862_highlighter(e.target.feature)\n",
       "                        e.target.setStyle(highlightStyle);\n",
       "                    }\n",
       "                },\n",
       "            });\n",
       "        };\n",
       "        var geo_json_4e8bb1634e7c700b7a86b4632321e862 = L.geoJson(null, {\n",
       "                onEachFeature: geo_json_4e8bb1634e7c700b7a86b4632321e862_onEachFeature,\n",
       "            \n",
       "                style: geo_json_4e8bb1634e7c700b7a86b4632321e862_styler,\n",
       "                pointToLayer: geo_json_4e8bb1634e7c700b7a86b4632321e862_pointToLayer\n",
       "        });\n",
       "\n",
       "        function geo_json_4e8bb1634e7c700b7a86b4632321e862_add (data) {\n",
       "            geo_json_4e8bb1634e7c700b7a86b4632321e862\n",
       "                .addData(data)\n",
       "                .addTo(map_6a49ec106fb6c645478abcf3f42e3064);\n",
       "        }\n",
       "            geo_json_4e8bb1634e7c700b7a86b4632321e862_add({&quot;bbox&quot;: [-116.12187999996466, 43.73630000273898, -115.23449999991226, 44.30464000287045], &quot;features&quot;: [{&quot;bbox&quot;: [-116.12179999996465, 43.73702000273915, -116.12179999996465, 43.73702000273915], &quot;geometry&quot;: {&quot;coordinates&quot;: [-116.12179999996465, 43.73702000273915], &quot;type&quot;: &quot;Point&quot;}, &quot;id&quot;: &quot;0&quot;, &quot;properties&quot;: {&quot;site_id&quot;: &quot;LDP Open&quot;}, &quot;type&quot;: &quot;Feature&quot;}, {&quot;bbox&quot;: [-116.12187999996466, 43.73701000273913, -116.12187999996466, 43.73701000273913], &quot;geometry&quot;: {&quot;coordinates&quot;: [-116.12187999996466, 43.73701000273913], &quot;type&quot;: &quot;Point&quot;}, &quot;id&quot;: &quot;10&quot;, &quot;properties&quot;: {&quot;site_id&quot;: &quot;LDP Open&quot;}, &quot;type&quot;: &quot;Feature&quot;}, {&quot;bbox&quot;: [-116.12187999996466, 43.73705000273919, -116.12187999996466, 43.73705000273919], &quot;geometry&quot;: {&quot;coordinates&quot;: [-116.12187999996466, 43.73705000273919], &quot;type&quot;: &quot;Point&quot;}, &quot;id&quot;: &quot;22&quot;, &quot;properties&quot;: {&quot;site_id&quot;: &quot;LDP Open&quot;}, &quot;type&quot;: &quot;Feature&quot;}, {&quot;bbox&quot;: [-116.12184999996465, 43.73703000273915, -116.12184999996465, 43.73703000273915], &quot;geometry&quot;: {&quot;coordinates&quot;: [-116.12184999996465, 43.73703000273915], &quot;type&quot;: &quot;Point&quot;}, &quot;id&quot;: &quot;38&quot;, &quot;properties&quot;: {&quot;site_id&quot;: &quot;LDP Open&quot;}, &quot;type&quot;: &quot;Feature&quot;}, {&quot;bbox&quot;: [-116.12181999996466, 43.73702000273914, -116.12181999996466, 43.73702000273914], &quot;geometry&quot;: {&quot;coordinates&quot;: [-116.12181999996466, 43.73702000273914], &quot;type&quot;: &quot;Point&quot;}, &quot;id&quot;: &quot;58&quot;, &quot;properties&quot;: {&quot;site_id&quot;: &quot;LDP Open&quot;}, &quot;type&quot;: &quot;Feature&quot;}, {&quot;bbox&quot;: [-116.12162999996461, 43.737150002739185, -116.12162999996461, 43.737150002739185], &quot;geometry&quot;: {&quot;coordinates&quot;: [-116.12162999996461, 43.737150002739185], &quot;type&quot;: &quot;Point&quot;}, &quot;id&quot;: &quot;74&quot;, &quot;properties&quot;: {&quot;site_id&quot;: &quot;LDP Open&quot;}, &quot;type&quot;: &quot;Feature&quot;}, {&quot;bbox&quot;: [-116.12163999996463, 43.73719000273918, -116.12163999996463, 43.73719000273918], &quot;geometry&quot;: {&quot;coordinates&quot;: [-116.12163999996463, 43.73719000273918], &quot;type&quot;: &quot;Point&quot;}, &quot;id&quot;: &quot;92&quot;, &quot;properties&quot;: {&quot;site_id&quot;: &quot;LDP Open&quot;}, &quot;type&quot;: &quot;Feature&quot;}, {&quot;bbox&quot;: [-116.1204599999646, 43.73633000273898, -116.1204599999646, 43.73633000273898], &quot;geometry&quot;: {&quot;coordinates&quot;: [-116.1204599999646, 43.73633000273898], &quot;type&quot;: &quot;Point&quot;}, &quot;id&quot;: &quot;106&quot;, &quot;properties&quot;: {&quot;site_id&quot;: &quot;LDP Tree&quot;}, &quot;type&quot;: &quot;Feature&quot;}, {&quot;bbox&quot;: [-116.12049999996462, 43.73640000273902, -116.12049999996462, 43.73640000273902], &quot;geometry&quot;: {&quot;coordinates&quot;: [-116.12049999996462, 43.73640000273902], &quot;type&quot;: &quot;Point&quot;}, &quot;id&quot;: &quot;114&quot;, &quot;properties&quot;: {&quot;site_id&quot;: &quot;LDP Tree&quot;}, &quot;type&quot;: &quot;Feature&quot;}, {&quot;bbox&quot;: [-116.1205499999646, 43.73630000273898, -116.1205499999646, 43.73630000273898], &quot;geometry&quot;: {&quot;coordinates&quot;: [-116.1205499999646, 43.73630000273898], &quot;type&quot;: &quot;Point&quot;}, &quot;id&quot;: &quot;122&quot;, &quot;properties&quot;: {&quot;site_id&quot;: &quot;LDP Tree&quot;}, &quot;type&quot;: &quot;Feature&quot;}, {&quot;bbox&quot;: [-116.1205199999646, 43.736340002739006, -116.1205199999646, 43.736340002739006], &quot;geometry&quot;: {&quot;coordinates&quot;: [-116.1205199999646, 43.736340002739006], &quot;type&quot;: &quot;Point&quot;}, &quot;id&quot;: &quot;130&quot;, &quot;properties&quot;: {&quot;site_id&quot;: &quot;LDP Tree&quot;}, &quot;type&quot;: &quot;Feature&quot;}, {&quot;bbox&quot;: [-116.1205699999646, 43.73636000273899, -116.1205699999646, 43.73636000273899], &quot;geometry&quot;: {&quot;coordinates&quot;: [-116.1205699999646, 43.73636000273899], &quot;type&quot;: &quot;Point&quot;}, &quot;id&quot;: &quot;144&quot;, &quot;properties&quot;: {&quot;site_id&quot;: &quot;LDP Tree&quot;}, &quot;type&quot;: &quot;Feature&quot;}, {&quot;bbox&quot;: [-116.12048999996462, 43.73630000273898, -116.12048999996462, 43.73630000273898], &quot;geometry&quot;: {&quot;coordinates&quot;: [-116.12048999996462, 43.73630000273898], &quot;type&quot;: &quot;Point&quot;}, &quot;id&quot;: &quot;154&quot;, &quot;properties&quot;: {&quot;site_id&quot;: &quot;LDP Tree&quot;}, &quot;type&quot;: &quot;Feature&quot;}, {&quot;bbox&quot;: [-116.12059999996461, 43.73636000273899, -116.12059999996461, 43.73636000273899], &quot;geometry&quot;: {&quot;coordinates&quot;: [-116.12059999996461, 43.73636000273899], &quot;type&quot;: &quot;Point&quot;}, &quot;id&quot;: &quot;164&quot;, &quot;properties&quot;: {&quot;site_id&quot;: &quot;LDP Tree&quot;}, &quot;type&quot;: &quot;Feature&quot;}, {&quot;bbox&quot;: [-115.2360299999124, 44.30464000287045, -115.2360299999124, 44.30464000287045], &quot;geometry&quot;: {&quot;coordinates&quot;: [-115.2360299999124, 44.30464000287045], &quot;type&quot;: &quot;Point&quot;}, &quot;id&quot;: &quot;170&quot;, &quot;properties&quot;: {&quot;site_id&quot;: &quot;Banner Open&quot;}, &quot;type&quot;: &quot;Feature&quot;}, {&quot;bbox&quot;: [-115.2360099999124, 44.30463000287046, -115.2360099999124, 44.30463000287046], &quot;geometry&quot;: {&quot;coordinates&quot;: [-115.2360099999124, 44.30463000287046], &quot;type&quot;: &quot;Point&quot;}, &quot;id&quot;: &quot;178&quot;, &quot;properties&quot;: {&quot;site_id&quot;: &quot;Banner Open&quot;}, &quot;type&quot;: &quot;Feature&quot;}, {&quot;bbox&quot;: [-115.23597999991239, 44.30461000287043, -115.23597999991239, 44.30461000287043], &quot;geometry&quot;: {&quot;coordinates&quot;: [-115.23597999991239, 44.30461000287043], &quot;type&quot;: &quot;Point&quot;}, &quot;id&quot;: &quot;196&quot;, &quot;properties&quot;: {&quot;site_id&quot;: &quot;Banner Open&quot;}, &quot;type&quot;: &quot;Feature&quot;}, {&quot;bbox&quot;: [-115.2359399999124, 44.30458000287044, -115.2359399999124, 44.30458000287044], &quot;geometry&quot;: {&quot;coordinates&quot;: [-115.2359399999124, 44.30458000287044], &quot;type&quot;: &quot;Point&quot;}, &quot;id&quot;: &quot;242&quot;, &quot;properties&quot;: {&quot;site_id&quot;: &quot;Banner Open&quot;}, &quot;type&quot;: &quot;Feature&quot;}, {&quot;bbox&quot;: [-115.2360599999124, 44.30447000287041, -115.2360599999124, 44.30447000287041], &quot;geometry&quot;: {&quot;coordinates&quot;: [-115.2360599999124, 44.30447000287041], &quot;type&quot;: &quot;Point&quot;}, &quot;id&quot;: &quot;268&quot;, &quot;properties&quot;: {&quot;site_id&quot;: &quot;Banner Open&quot;}, &quot;type&quot;: &quot;Feature&quot;}, {&quot;bbox&quot;: [-115.2360299999124, 44.30462000287045, -115.2360299999124, 44.30462000287045], &quot;geometry&quot;: {&quot;coordinates&quot;: [-115.2360299999124, 44.30462000287045], &quot;type&quot;: &quot;Point&quot;}, &quot;id&quot;: &quot;294&quot;, &quot;properties&quot;: {&quot;site_id&quot;: &quot;Banner Open&quot;}, &quot;type&quot;: &quot;Feature&quot;}, {&quot;bbox&quot;: [-115.2360299999124, 44.304540002870425, -115.2360299999124, 44.304540002870425], &quot;geometry&quot;: {&quot;coordinates&quot;: [-115.2360299999124, 44.304540002870425], &quot;type&quot;: &quot;Point&quot;}, &quot;id&quot;: &quot;320&quot;, &quot;properties&quot;: {&quot;site_id&quot;: &quot;Banner Open&quot;}, &quot;type&quot;: &quot;Feature&quot;}, {&quot;bbox&quot;: [-115.2359899999124, 44.3044800028704, -115.2359899999124, 44.3044800028704], &quot;geometry&quot;: {&quot;coordinates&quot;: [-115.2359899999124, 44.3044800028704], &quot;type&quot;: &quot;Point&quot;}, &quot;id&quot;: &quot;344&quot;, &quot;properties&quot;: {&quot;site_id&quot;: &quot;Banner Open&quot;}, &quot;type&quot;: &quot;Feature&quot;}, {&quot;bbox&quot;: [-115.23606999991239, 44.304430002870404, -115.23606999991239, 44.304430002870404], &quot;geometry&quot;: {&quot;coordinates&quot;: [-115.23606999991239, 44.304430002870404], &quot;type&quot;: &quot;Point&quot;}, &quot;id&quot;: &quot;366&quot;, &quot;properties&quot;: {&quot;site_id&quot;: &quot;Banner Open&quot;}, &quot;type&quot;: &quot;Feature&quot;}, {&quot;bbox&quot;: [-115.23454999991228, 44.30366000287022, -115.23454999991228, 44.30366000287022], &quot;geometry&quot;: {&quot;coordinates&quot;: [-115.23454999991228, 44.30366000287022], &quot;type&quot;: &quot;Point&quot;}, &quot;id&quot;: &quot;388&quot;, &quot;properties&quot;: {&quot;site_id&quot;: &quot;Banner Snotel&quot;}, &quot;type&quot;: &quot;Feature&quot;}, {&quot;bbox&quot;: [-115.23455999991226, 44.303650002870235, -115.23455999991226, 44.303650002870235], &quot;geometry&quot;: {&quot;coordinates&quot;: [-115.23455999991226, 44.303650002870235], &quot;type&quot;: &quot;Point&quot;}, &quot;id&quot;: &quot;396&quot;, &quot;properties&quot;: {&quot;site_id&quot;: &quot;Banner Snotel&quot;}, &quot;type&quot;: &quot;Feature&quot;}, {&quot;bbox&quot;: [-116.09013999996323, 43.75876000274412, -116.09013999996323, 43.75876000274412], &quot;geometry&quot;: {&quot;coordinates&quot;: [-116.09013999996323, 43.75876000274412], &quot;type&quot;: &quot;Point&quot;}, &quot;id&quot;: &quot;401&quot;, &quot;properties&quot;: {&quot;site_id&quot;: &quot;Bogus Upper&quot;}, &quot;type&quot;: &quot;Feature&quot;}, {&quot;bbox&quot;: [-116.09018999996327, 43.758790002744135, -116.09018999996327, 43.758790002744135], &quot;geometry&quot;: {&quot;coordinates&quot;: [-116.09018999996327, 43.758790002744135], &quot;type&quot;: &quot;Point&quot;}, &quot;id&quot;: &quot;427&quot;, &quot;properties&quot;: {&quot;site_id&quot;: &quot;Bogus Upper&quot;}, &quot;type&quot;: &quot;Feature&quot;}, {&quot;bbox&quot;: [-116.09024999996326, 43.75882000274413, -116.09024999996326, 43.75882000274413], &quot;geometry&quot;: {&quot;coordinates&quot;: [-116.09024999996326, 43.75882000274413], &quot;type&quot;: &quot;Point&quot;}, &quot;id&quot;: &quot;451&quot;, &quot;properties&quot;: {&quot;site_id&quot;: &quot;Bogus Upper&quot;}, &quot;type&quot;: &quot;Feature&quot;}, {&quot;bbox&quot;: [-115.6766599999437, 43.947350002787246, -115.6766599999437, 43.947350002787246], &quot;geometry&quot;: {&quot;coordinates&quot;: [-115.6766599999437, 43.947350002787246], &quot;type&quot;: &quot;Point&quot;}, &quot;id&quot;: &quot;473&quot;, &quot;properties&quot;: {&quot;site_id&quot;: &quot;Mores Creek Summit&quot;}, &quot;type&quot;: &quot;Feature&quot;}, {&quot;bbox&quot;: [-115.23449999991226, 44.303670002870206, -115.23449999991226, 44.303670002870206], &quot;geometry&quot;: {&quot;coordinates&quot;: [-115.23449999991226, 44.303670002870206], &quot;type&quot;: &quot;Point&quot;}, &quot;id&quot;: &quot;586&quot;, &quot;properties&quot;: {&quot;site_id&quot;: &quot;Banner Snotel&quot;}, &quot;type&quot;: &quot;Feature&quot;}, {&quot;bbox&quot;: [-115.2346199999123, 44.303590002870195, -115.2346199999123, 44.303590002870195], &quot;geometry&quot;: {&quot;coordinates&quot;: [-115.2346199999123, 44.303590002870195], &quot;type&quot;: &quot;Point&quot;}, &quot;id&quot;: &quot;608&quot;, &quot;properties&quot;: {&quot;site_id&quot;: &quot;Banner Snotel&quot;}, &quot;type&quot;: &quot;Feature&quot;}, {&quot;bbox&quot;: [-115.23452999991227, 44.3036400028702, -115.23452999991227, 44.3036400028702], &quot;geometry&quot;: {&quot;coordinates&quot;: [-115.23452999991227, 44.3036400028702], &quot;type&quot;: &quot;Point&quot;}, &quot;id&quot;: &quot;634&quot;, &quot;properties&quot;: {&quot;site_id&quot;: &quot;Banner Snotel&quot;}, &quot;type&quot;: &quot;Feature&quot;}, {&quot;bbox&quot;: [-115.23453999991226, 44.30363000287019, -115.23453999991226, 44.30363000287019], &quot;geometry&quot;: {&quot;coordinates&quot;: [-115.23453999991226, 44.30363000287019], &quot;type&quot;: &quot;Point&quot;}, &quot;id&quot;: &quot;660&quot;, &quot;properties&quot;: {&quot;site_id&quot;: &quot;Banner Snotel&quot;}, &quot;type&quot;: &quot;Feature&quot;}, {&quot;bbox&quot;: [-115.23453999991226, 44.3036000028702, -115.23453999991226, 44.3036000028702], &quot;geometry&quot;: {&quot;coordinates&quot;: [-115.23453999991226, 44.3036000028702], &quot;type&quot;: &quot;Point&quot;}, &quot;id&quot;: &quot;686&quot;, &quot;properties&quot;: {&quot;site_id&quot;: &quot;Banner Snotel&quot;}, &quot;type&quot;: &quot;Feature&quot;}, {&quot;bbox&quot;: [-115.2346399999123, 44.303580002870184, -115.2346399999123, 44.303580002870184], &quot;geometry&quot;: {&quot;coordinates&quot;: [-115.2346399999123, 44.303580002870184], &quot;type&quot;: &quot;Point&quot;}, &quot;id&quot;: &quot;714&quot;, &quot;properties&quot;: {&quot;site_id&quot;: &quot;Banner Snotel&quot;}, &quot;type&quot;: &quot;Feature&quot;}, {&quot;bbox&quot;: [-115.2345799999123, 44.303580002870184, -115.2345799999123, 44.303580002870184], &quot;geometry&quot;: {&quot;coordinates&quot;: [-115.2345799999123, 44.303580002870184], &quot;type&quot;: &quot;Point&quot;}, &quot;id&quot;: &quot;740&quot;, &quot;properties&quot;: {&quot;site_id&quot;: &quot;Banner Snotel&quot;}, &quot;type&quot;: &quot;Feature&quot;}, {&quot;bbox&quot;: [-115.23459999991229, 44.303590002870195, -115.23459999991229, 44.303590002870195], &quot;geometry&quot;: {&quot;coordinates&quot;: [-115.23459999991229, 44.303590002870195], &quot;type&quot;: &quot;Point&quot;}, &quot;id&quot;: &quot;764&quot;, &quot;properties&quot;: {&quot;site_id&quot;: &quot;Banner Snotel&quot;}, &quot;type&quot;: &quot;Feature&quot;}, {&quot;bbox&quot;: [-116.09021999996327, 43.75886000274413, -116.09021999996327, 43.75886000274413], &quot;geometry&quot;: {&quot;coordinates&quot;: [-116.09021999996327, 43.75886000274413], &quot;type&quot;: &quot;Point&quot;}, &quot;id&quot;: &quot;790&quot;, &quot;properties&quot;: {&quot;site_id&quot;: &quot;Bogus Upper&quot;}, &quot;type&quot;: &quot;Feature&quot;}, {&quot;bbox&quot;: [-116.09019999996326, 43.75885000274413, -116.09019999996326, 43.75885000274413], &quot;geometry&quot;: {&quot;coordinates&quot;: [-116.09019999996326, 43.75885000274413], &quot;type&quot;: &quot;Point&quot;}, &quot;id&quot;: &quot;800&quot;, &quot;properties&quot;: {&quot;site_id&quot;: &quot;Bogus Upper&quot;}, &quot;type&quot;: &quot;Feature&quot;}, {&quot;bbox&quot;: [-116.09021999996327, 43.75881000274412, -116.09021999996327, 43.75881000274412], &quot;geometry&quot;: {&quot;coordinates&quot;: [-116.09021999996327, 43.75881000274412], &quot;type&quot;: &quot;Point&quot;}, &quot;id&quot;: &quot;814&quot;, &quot;properties&quot;: {&quot;site_id&quot;: &quot;Bogus Upper&quot;}, &quot;type&quot;: &quot;Feature&quot;}, {&quot;bbox&quot;: [-116.09018999996327, 43.75882000274414, -116.09018999996327, 43.75882000274414], &quot;geometry&quot;: {&quot;coordinates&quot;: [-116.09018999996327, 43.75882000274414], &quot;type&quot;: &quot;Point&quot;}, &quot;id&quot;: &quot;834&quot;, &quot;properties&quot;: {&quot;site_id&quot;: &quot;Bogus Upper&quot;}, &quot;type&quot;: &quot;Feature&quot;}, {&quot;bbox&quot;: [-116.09016999996322, 43.75878000274413, -116.09016999996322, 43.75878000274413], &quot;geometry&quot;: {&quot;coordinates&quot;: [-116.09016999996322, 43.75878000274413], &quot;type&quot;: &quot;Point&quot;}, &quot;id&quot;: &quot;852&quot;, &quot;properties&quot;: {&quot;site_id&quot;: &quot;Bogus Upper&quot;}, &quot;type&quot;: &quot;Feature&quot;}, {&quot;bbox&quot;: [-116.09017999996324, 43.75881000274413, -116.09017999996324, 43.75881000274413], &quot;geometry&quot;: {&quot;coordinates&quot;: [-116.09017999996324, 43.75881000274413], &quot;type&quot;: &quot;Point&quot;}, &quot;id&quot;: &quot;874&quot;, &quot;properties&quot;: {&quot;site_id&quot;: &quot;Bogus Upper&quot;}, &quot;type&quot;: &quot;Feature&quot;}, {&quot;bbox&quot;: [-116.09016999996322, 43.75884000274412, -116.09016999996322, 43.75884000274412], &quot;geometry&quot;: {&quot;coordinates&quot;: [-116.09016999996322, 43.75884000274412], &quot;type&quot;: &quot;Point&quot;}, &quot;id&quot;: &quot;904&quot;, &quot;properties&quot;: {&quot;site_id&quot;: &quot;Bogus Upper&quot;}, &quot;type&quot;: &quot;Feature&quot;}, {&quot;bbox&quot;: [-116.09016999996322, 43.758810002744134, -116.09016999996322, 43.758810002744134], &quot;geometry&quot;: {&quot;coordinates&quot;: [-116.09016999996322, 43.758810002744134], &quot;type&quot;: &quot;Point&quot;}, &quot;id&quot;: &quot;930&quot;, &quot;properties&quot;: {&quot;site_id&quot;: &quot;Bogus Upper&quot;}, &quot;type&quot;: &quot;Feature&quot;}], &quot;type&quot;: &quot;FeatureCollection&quot;});\n",
       "\n",
       "        \n",
       "    \n",
       "    geo_json_4e8bb1634e7c700b7a86b4632321e862.bindTooltip(\n",
       "    function(layer){\n",
       "    let div = L.DomUtil.create(&#x27;div&#x27;);\n",
       "    \n",
       "    let handleObject = feature=&gt;typeof(feature)==&#x27;object&#x27; ? JSON.stringify(feature) : feature;\n",
       "    let fields = [&quot;site_id&quot;];\n",
       "    let aliases = [&quot;site_id&quot;];\n",
       "    let table = &#x27;&lt;table&gt;&#x27; +\n",
       "        String(\n",
       "        fields.map(\n",
       "        (v,i)=&gt;\n",
       "        `&lt;tr&gt;\n",
       "            &lt;th&gt;${aliases[i]}&lt;/th&gt;\n",
       "            \n",
       "            &lt;td&gt;${handleObject(layer.feature.properties[v])}&lt;/td&gt;\n",
       "        &lt;/tr&gt;`).join(&#x27;&#x27;))\n",
       "    +&#x27;&lt;/table&gt;&#x27;;\n",
       "    div.innerHTML=table;\n",
       "    \n",
       "    return div\n",
       "    }\n",
       "    ,{&quot;className&quot;: &quot;foliumtooltip&quot;, &quot;sticky&quot;: true});\n",
       "                     \n",
       "&lt;/script&gt;\" style=\"position:absolute;width:100%;height:100%;left:0;top:0;border:none !important;\" allowfullscreen webkitallowfullscreen mozallowfullscreen></iframe></div></div>"
      ],
      "text/plain": [
       "<folium.folium.Map at 0x11bf01b20>"
      ]
     },
     "execution_count": 6,
     "metadata": {},
     "output_type": "execute_result"
    }
   ],
   "source": [
    "# Get the first 1000 measurements from the Boise River Basin Site\n",
    "df = LayerMeasurements.from_filter(\n",
    "    type=\"density\",\n",
    "    site_name=\"Boise River Basin\",\n",
    "    limit=1000\n",
    ")\n",
    "\n",
    "# Explore the pits so we can find an interesting site\n",
    "df.loc[:, [\"site_id\", \"geom\"]].drop_duplicates().explore()"
   ]
  },
  {
   "cell_type": "markdown",
   "metadata": {},
   "source": [
    "### Step 3. Pick a point of interest"
   ]
  },
  {
   "cell_type": "code",
   "execution_count": 17,
   "metadata": {
    "tags": [
     "nbsphinx-gallery",
     "nbsphinx-thumbnail"
    ]
   },
   "outputs": [
    {
     "data": {
      "text/html": [
       "<div style=\"width:100%;\"><div style=\"position:relative;width:100%;height:0;padding-bottom:60%;\"><span style=\"color:#565656\">Make this Notebook Trusted to load map: File -> Trust Notebook</span><iframe srcdoc=\"&lt;!DOCTYPE html&gt;\n",
       "&lt;head&gt;    \n",
       "    &lt;meta http-equiv=&quot;content-type&quot; content=&quot;text/html; charset=UTF-8&quot; /&gt;\n",
       "    \n",
       "        &lt;script&gt;\n",
       "            L_NO_TOUCH = false;\n",
       "            L_DISABLE_3D = false;\n",
       "        &lt;/script&gt;\n",
       "    \n",
       "    &lt;style&gt;html, body {width: 100%;height: 100%;margin: 0;padding: 0;}&lt;/style&gt;\n",
       "    &lt;style&gt;#map {position:absolute;top:0;bottom:0;right:0;left:0;}&lt;/style&gt;\n",
       "    &lt;script src=&quot;https://cdn.jsdelivr.net/npm/leaflet@1.6.0/dist/leaflet.js&quot;&gt;&lt;/script&gt;\n",
       "    &lt;script src=&quot;https://code.jquery.com/jquery-1.12.4.min.js&quot;&gt;&lt;/script&gt;\n",
       "    &lt;script src=&quot;https://maxcdn.bootstrapcdn.com/bootstrap/3.2.0/js/bootstrap.min.js&quot;&gt;&lt;/script&gt;\n",
       "    &lt;script src=&quot;https://cdnjs.cloudflare.com/ajax/libs/Leaflet.awesome-markers/2.0.2/leaflet.awesome-markers.js&quot;&gt;&lt;/script&gt;\n",
       "    &lt;link rel=&quot;stylesheet&quot; href=&quot;https://cdn.jsdelivr.net/npm/leaflet@1.6.0/dist/leaflet.css&quot;/&gt;\n",
       "    &lt;link rel=&quot;stylesheet&quot; href=&quot;https://maxcdn.bootstrapcdn.com/bootstrap/3.2.0/css/bootstrap.min.css&quot;/&gt;\n",
       "    &lt;link rel=&quot;stylesheet&quot; href=&quot;https://maxcdn.bootstrapcdn.com/bootstrap/3.2.0/css/bootstrap-theme.min.css&quot;/&gt;\n",
       "    &lt;link rel=&quot;stylesheet&quot; href=&quot;https://maxcdn.bootstrapcdn.com/font-awesome/4.6.3/css/font-awesome.min.css&quot;/&gt;\n",
       "    &lt;link rel=&quot;stylesheet&quot; href=&quot;https://cdnjs.cloudflare.com/ajax/libs/Leaflet.awesome-markers/2.0.2/leaflet.awesome-markers.css&quot;/&gt;\n",
       "    &lt;link rel=&quot;stylesheet&quot; href=&quot;https://cdn.jsdelivr.net/gh/python-visualization/folium/folium/templates/leaflet.awesome.rotate.min.css&quot;/&gt;\n",
       "    \n",
       "            &lt;meta name=&quot;viewport&quot; content=&quot;width=device-width,\n",
       "                initial-scale=1.0, maximum-scale=1.0, user-scalable=no&quot; /&gt;\n",
       "            &lt;style&gt;\n",
       "                #map_b47a6c9ef07bcbc29a2062c43b647799 {\n",
       "                    position: relative;\n",
       "                    width: 100.0%;\n",
       "                    height: 100.0%;\n",
       "                    left: 0.0%;\n",
       "                    top: 0.0%;\n",
       "                }\n",
       "            &lt;/style&gt;\n",
       "        \n",
       "    \n",
       "                    &lt;style&gt;\n",
       "                        .foliumtooltip {\n",
       "                            \n",
       "                        }\n",
       "                       .foliumtooltip table{\n",
       "                            margin: auto;\n",
       "                        }\n",
       "                        .foliumtooltip tr{\n",
       "                            text-align: left;\n",
       "                        }\n",
       "                        .foliumtooltip th{\n",
       "                            padding: 2px; padding-right: 8px;\n",
       "                        }\n",
       "                    &lt;/style&gt;\n",
       "            \n",
       "&lt;/head&gt;\n",
       "&lt;body&gt;    \n",
       "    \n",
       "            &lt;div class=&quot;folium-map&quot; id=&quot;map_b47a6c9ef07bcbc29a2062c43b647799&quot; &gt;&lt;/div&gt;\n",
       "        \n",
       "&lt;/body&gt;\n",
       "&lt;script&gt;    \n",
       "    \n",
       "            var map_b47a6c9ef07bcbc29a2062c43b647799 = L.map(\n",
       "                &quot;map_b47a6c9ef07bcbc29a2062c43b647799&quot;,\n",
       "                {\n",
       "                    center: [44.30453500287042, -115.2360049999124],\n",
       "                    crs: L.CRS.EPSG3857,\n",
       "                    zoom: 10,\n",
       "                    zoomControl: true,\n",
       "                    preferCanvas: false,\n",
       "                }\n",
       "            );\n",
       "            L.control.scale().addTo(map_b47a6c9ef07bcbc29a2062c43b647799);\n",
       "\n",
       "            \n",
       "\n",
       "        \n",
       "    \n",
       "            var tile_layer_f5eccfc8b8495213578639688af03e7d = L.tileLayer(\n",
       "                &quot;https://{s}.tile.openstreetmap.org/{z}/{x}/{y}.png&quot;,\n",
       "                {&quot;attribution&quot;: &quot;Data by \\u0026copy; \\u003ca href=\\&quot;http://openstreetmap.org\\&quot;\\u003eOpenStreetMap\\u003c/a\\u003e, under \\u003ca href=\\&quot;http://www.openstreetmap.org/copyright\\&quot;\\u003eODbL\\u003c/a\\u003e.&quot;, &quot;detectRetina&quot;: false, &quot;maxNativeZoom&quot;: 18, &quot;maxZoom&quot;: 18, &quot;minZoom&quot;: 0, &quot;noWrap&quot;: false, &quot;opacity&quot;: 1, &quot;subdomains&quot;: &quot;abc&quot;, &quot;tms&quot;: false}\n",
       "            ).addTo(map_b47a6c9ef07bcbc29a2062c43b647799);\n",
       "        \n",
       "    \n",
       "            map_b47a6c9ef07bcbc29a2062c43b647799.fitBounds(\n",
       "                [[44.304430002870404, -115.23606999991239], [44.30464000287045, -115.2359399999124]],\n",
       "                {}\n",
       "            );\n",
       "        \n",
       "    \n",
       "        function geo_json_58edd25645d9eab7b5d368890b31f464_styler(feature) {\n",
       "            switch(feature.id) {\n",
       "                default:\n",
       "                    return {&quot;fillOpacity&quot;: 0.5, &quot;weight&quot;: 2};\n",
       "            }\n",
       "        }\n",
       "        function geo_json_58edd25645d9eab7b5d368890b31f464_highlighter(feature) {\n",
       "            switch(feature.id) {\n",
       "                default:\n",
       "                    return {&quot;fillOpacity&quot;: 0.75};\n",
       "            }\n",
       "        }\n",
       "        function geo_json_58edd25645d9eab7b5d368890b31f464_pointToLayer(feature, latlng) {\n",
       "            var opts = {&quot;bubblingMouseEvents&quot;: true, &quot;color&quot;: &quot;#3388ff&quot;, &quot;dashArray&quot;: null, &quot;dashOffset&quot;: null, &quot;fill&quot;: true, &quot;fillColor&quot;: &quot;#3388ff&quot;, &quot;fillOpacity&quot;: 0.2, &quot;fillRule&quot;: &quot;evenodd&quot;, &quot;lineCap&quot;: &quot;round&quot;, &quot;lineJoin&quot;: &quot;round&quot;, &quot;opacity&quot;: 1.0, &quot;radius&quot;: 2, &quot;stroke&quot;: true, &quot;weight&quot;: 3};\n",
       "            \n",
       "            let style = geo_json_58edd25645d9eab7b5d368890b31f464_styler(feature)\n",
       "            Object.assign(opts, style)\n",
       "            \n",
       "            return new L.CircleMarker(latlng, opts)\n",
       "        }\n",
       "\n",
       "        function geo_json_58edd25645d9eab7b5d368890b31f464_onEachFeature(feature, layer) {\n",
       "            layer.on({\n",
       "                mouseout: function(e) {\n",
       "                    if(typeof e.target.setStyle === &quot;function&quot;){\n",
       "                        geo_json_58edd25645d9eab7b5d368890b31f464.resetStyle(e.target);\n",
       "                    }\n",
       "                },\n",
       "                mouseover: function(e) {\n",
       "                    if(typeof e.target.setStyle === &quot;function&quot;){\n",
       "                        const highlightStyle = geo_json_58edd25645d9eab7b5d368890b31f464_highlighter(e.target.feature)\n",
       "                        e.target.setStyle(highlightStyle);\n",
       "                    }\n",
       "                },\n",
       "            });\n",
       "        };\n",
       "        var geo_json_58edd25645d9eab7b5d368890b31f464 = L.geoJson(null, {\n",
       "                onEachFeature: geo_json_58edd25645d9eab7b5d368890b31f464_onEachFeature,\n",
       "            \n",
       "                style: geo_json_58edd25645d9eab7b5d368890b31f464_styler,\n",
       "                pointToLayer: geo_json_58edd25645d9eab7b5d368890b31f464_pointToLayer\n",
       "        });\n",
       "\n",
       "        function geo_json_58edd25645d9eab7b5d368890b31f464_add (data) {\n",
       "            geo_json_58edd25645d9eab7b5d368890b31f464\n",
       "                .addData(data)\n",
       "                .addTo(map_b47a6c9ef07bcbc29a2062c43b647799);\n",
       "        }\n",
       "            geo_json_58edd25645d9eab7b5d368890b31f464_add({&quot;bbox&quot;: [-115.23606999991239, 44.304430002870404, -115.2359399999124, 44.30464000287045], &quot;features&quot;: [{&quot;bbox&quot;: [-115.2360299999124, 44.30464000287045, -115.2360299999124, 44.30464000287045], &quot;geometry&quot;: {&quot;coordinates&quot;: [-115.2360299999124, 44.30464000287045], &quot;type&quot;: &quot;Point&quot;}, &quot;id&quot;: &quot;0&quot;, &quot;properties&quot;: {&quot;site_id&quot;: &quot;Banner Open&quot;}, &quot;type&quot;: &quot;Feature&quot;}, {&quot;bbox&quot;: [-115.2360099999124, 44.30463000287046, -115.2360099999124, 44.30463000287046], &quot;geometry&quot;: {&quot;coordinates&quot;: [-115.2360099999124, 44.30463000287046], &quot;type&quot;: &quot;Point&quot;}, &quot;id&quot;: &quot;8&quot;, &quot;properties&quot;: {&quot;site_id&quot;: &quot;Banner Open&quot;}, &quot;type&quot;: &quot;Feature&quot;}, {&quot;bbox&quot;: [-115.23597999991239, 44.30461000287043, -115.23597999991239, 44.30461000287043], &quot;geometry&quot;: {&quot;coordinates&quot;: [-115.23597999991239, 44.30461000287043], &quot;type&quot;: &quot;Point&quot;}, &quot;id&quot;: &quot;26&quot;, &quot;properties&quot;: {&quot;site_id&quot;: &quot;Banner Open&quot;}, &quot;type&quot;: &quot;Feature&quot;}, {&quot;bbox&quot;: [-115.2359399999124, 44.30458000287044, -115.2359399999124, 44.30458000287044], &quot;geometry&quot;: {&quot;coordinates&quot;: [-115.2359399999124, 44.30458000287044], &quot;type&quot;: &quot;Point&quot;}, &quot;id&quot;: &quot;72&quot;, &quot;properties&quot;: {&quot;site_id&quot;: &quot;Banner Open&quot;}, &quot;type&quot;: &quot;Feature&quot;}, {&quot;bbox&quot;: [-115.2360599999124, 44.30447000287041, -115.2360599999124, 44.30447000287041], &quot;geometry&quot;: {&quot;coordinates&quot;: [-115.2360599999124, 44.30447000287041], &quot;type&quot;: &quot;Point&quot;}, &quot;id&quot;: &quot;98&quot;, &quot;properties&quot;: {&quot;site_id&quot;: &quot;Banner Open&quot;}, &quot;type&quot;: &quot;Feature&quot;}, {&quot;bbox&quot;: [-115.2360299999124, 44.30462000287045, -115.2360299999124, 44.30462000287045], &quot;geometry&quot;: {&quot;coordinates&quot;: [-115.2360299999124, 44.30462000287045], &quot;type&quot;: &quot;Point&quot;}, &quot;id&quot;: &quot;124&quot;, &quot;properties&quot;: {&quot;site_id&quot;: &quot;Banner Open&quot;}, &quot;type&quot;: &quot;Feature&quot;}, {&quot;bbox&quot;: [-115.2360299999124, 44.304540002870425, -115.2360299999124, 44.304540002870425], &quot;geometry&quot;: {&quot;coordinates&quot;: [-115.2360299999124, 44.304540002870425], &quot;type&quot;: &quot;Point&quot;}, &quot;id&quot;: &quot;150&quot;, &quot;properties&quot;: {&quot;site_id&quot;: &quot;Banner Open&quot;}, &quot;type&quot;: &quot;Feature&quot;}, {&quot;bbox&quot;: [-115.2359899999124, 44.3044800028704, -115.2359899999124, 44.3044800028704], &quot;geometry&quot;: {&quot;coordinates&quot;: [-115.2359899999124, 44.3044800028704], &quot;type&quot;: &quot;Point&quot;}, &quot;id&quot;: &quot;174&quot;, &quot;properties&quot;: {&quot;site_id&quot;: &quot;Banner Open&quot;}, &quot;type&quot;: &quot;Feature&quot;}, {&quot;bbox&quot;: [-115.23606999991239, 44.304430002870404, -115.23606999991239, 44.304430002870404], &quot;geometry&quot;: {&quot;coordinates&quot;: [-115.23606999991239, 44.304430002870404], &quot;type&quot;: &quot;Point&quot;}, &quot;id&quot;: &quot;196&quot;, &quot;properties&quot;: {&quot;site_id&quot;: &quot;Banner Open&quot;}, &quot;type&quot;: &quot;Feature&quot;}], &quot;type&quot;: &quot;FeatureCollection&quot;});\n",
       "\n",
       "        \n",
       "    \n",
       "    geo_json_58edd25645d9eab7b5d368890b31f464.bindTooltip(\n",
       "    function(layer){\n",
       "    let div = L.DomUtil.create(&#x27;div&#x27;);\n",
       "    \n",
       "    let handleObject = feature=&gt;typeof(feature)==&#x27;object&#x27; ? JSON.stringify(feature) : feature;\n",
       "    let fields = [&quot;site_id&quot;];\n",
       "    let aliases = [&quot;site_id&quot;];\n",
       "    let table = &#x27;&lt;table&gt;&#x27; +\n",
       "        String(\n",
       "        fields.map(\n",
       "        (v,i)=&gt;\n",
       "        `&lt;tr&gt;\n",
       "            &lt;th&gt;${aliases[i]}&lt;/th&gt;\n",
       "            \n",
       "            &lt;td&gt;${handleObject(layer.feature.properties[v])}&lt;/td&gt;\n",
       "        &lt;/tr&gt;`).join(&#x27;&#x27;))\n",
       "    +&#x27;&lt;/table&gt;&#x27;;\n",
       "    div.innerHTML=table;\n",
       "    \n",
       "    return div\n",
       "    }\n",
       "    ,{&quot;className&quot;: &quot;foliumtooltip&quot;, &quot;sticky&quot;: true});\n",
       "                     \n",
       "&lt;/script&gt;\" style=\"position:absolute;width:100%;height:100%;left:0;top:0;border:none !important;\" allowfullscreen webkitallowfullscreen mozallowfullscreen></iframe></div></div>"
      ],
      "text/plain": [
       "<folium.folium.Map at 0x12c357f70>"
      ]
     },
     "execution_count": 17,
     "metadata": {},
     "output_type": "execute_result"
    }
   ],
   "source": [
    "# We noticed there are a lot of pits (timeseries pits) for Banner Open\n",
    "# Filter down to ONE timeseries\n",
    "site_id = \"Banner Open\"\n",
    "df = LayerMeasurements.from_filter(\n",
    "    type=\"density\",\n",
    "    site_id=site_id\n",
    ").set_crs(\"epsg:26911\")\n",
    "\n",
    "df.loc[:, [\"site_id\", \"geom\"]].drop_duplicates().explore()\n"
   ]
  },
  {
   "cell_type": "code",
   "execution_count": 8,
   "metadata": {},
   "outputs": [
    {
     "data": {
      "text/html": [
       "<div>\n",
       "<style scoped>\n",
       "    .dataframe tbody tr th:only-of-type {\n",
       "        vertical-align: middle;\n",
       "    }\n",
       "\n",
       "    .dataframe tbody tr th {\n",
       "        vertical-align: top;\n",
       "    }\n",
       "\n",
       "    .dataframe thead th {\n",
       "        text-align: right;\n",
       "    }\n",
       "</style>\n",
       "<table border=\"1\" class=\"dataframe\">\n",
       "  <thead>\n",
       "    <tr style=\"text-align: right;\">\n",
       "      <th></th>\n",
       "      <th>id</th>\n",
       "      <th>latitude</th>\n",
       "      <th>longitude</th>\n",
       "      <th>northing</th>\n",
       "      <th>easting</th>\n",
       "      <th>utm_zone</th>\n",
       "      <th>depth</th>\n",
       "      <th>bottom_depth</th>\n",
       "      <th>value</th>\n",
       "    </tr>\n",
       "    <tr>\n",
       "      <th>date</th>\n",
       "      <th></th>\n",
       "      <th></th>\n",
       "      <th></th>\n",
       "      <th></th>\n",
       "      <th></th>\n",
       "      <th></th>\n",
       "      <th></th>\n",
       "      <th></th>\n",
       "      <th></th>\n",
       "    </tr>\n",
       "  </thead>\n",
       "  <tbody>\n",
       "    <tr>\n",
       "      <th>2019-12-18</th>\n",
       "      <td>22609.5</td>\n",
       "      <td>44.30464</td>\n",
       "      <td>-115.23603</td>\n",
       "      <td>4.907222e+06</td>\n",
       "      <td>640699.666121</td>\n",
       "      <td>11.0</td>\n",
       "      <td>26.000000</td>\n",
       "      <td>16.000000</td>\n",
       "      <td>279.000000</td>\n",
       "    </tr>\n",
       "    <tr>\n",
       "      <th>2020-01-09</th>\n",
       "      <td>22670.0</td>\n",
       "      <td>44.30463</td>\n",
       "      <td>-115.23601</td>\n",
       "      <td>4.907221e+06</td>\n",
       "      <td>640701.285289</td>\n",
       "      <td>11.0</td>\n",
       "      <td>51.000000</td>\n",
       "      <td>41.000000</td>\n",
       "      <td>156.777778</td>\n",
       "    </tr>\n",
       "    <tr>\n",
       "      <th>2020-01-23</th>\n",
       "      <td>22746.0</td>\n",
       "      <td>44.30461</td>\n",
       "      <td>-115.23598</td>\n",
       "      <td>4.907219e+06</td>\n",
       "      <td>640703.725988</td>\n",
       "      <td>11.0</td>\n",
       "      <td>61.727273</td>\n",
       "      <td>51.727273</td>\n",
       "      <td>254.166667</td>\n",
       "    </tr>\n",
       "    <tr>\n",
       "      <th>2020-01-30</th>\n",
       "      <td>22830.5</td>\n",
       "      <td>44.30461</td>\n",
       "      <td>-115.23598</td>\n",
       "      <td>4.907219e+06</td>\n",
       "      <td>640703.725988</td>\n",
       "      <td>11.0</td>\n",
       "      <td>72.000000</td>\n",
       "      <td>62.000000</td>\n",
       "      <td>236.000000</td>\n",
       "    </tr>\n",
       "    <tr>\n",
       "      <th>2020-02-06</th>\n",
       "      <td>22910.0</td>\n",
       "      <td>44.30458</td>\n",
       "      <td>-115.23594</td>\n",
       "      <td>4.907216e+06</td>\n",
       "      <td>640706.988222</td>\n",
       "      <td>11.0</td>\n",
       "      <td>72.000000</td>\n",
       "      <td>62.000000</td>\n",
       "      <td>254.141026</td>\n",
       "    </tr>\n",
       "  </tbody>\n",
       "</table>\n",
       "</div>"
      ],
      "text/plain": [
       "                 id  latitude  longitude      northing        easting  \\\n",
       "date                                                                    \n",
       "2019-12-18  22609.5  44.30464 -115.23603  4.907222e+06  640699.666121   \n",
       "2020-01-09  22670.0  44.30463 -115.23601  4.907221e+06  640701.285289   \n",
       "2020-01-23  22746.0  44.30461 -115.23598  4.907219e+06  640703.725988   \n",
       "2020-01-30  22830.5  44.30461 -115.23598  4.907219e+06  640703.725988   \n",
       "2020-02-06  22910.0  44.30458 -115.23594  4.907216e+06  640706.988222   \n",
       "\n",
       "            utm_zone      depth  bottom_depth       value  \n",
       "date                                                       \n",
       "2019-12-18      11.0  26.000000     16.000000  279.000000  \n",
       "2020-01-09      11.0  51.000000     41.000000  156.777778  \n",
       "2020-01-23      11.0  61.727273     51.727273  254.166667  \n",
       "2020-01-30      11.0  72.000000     62.000000  236.000000  \n",
       "2020-02-06      11.0  72.000000     62.000000  254.141026  "
      ]
     },
     "execution_count": 8,
     "metadata": {},
     "output_type": "execute_result"
    }
   ],
   "source": [
    "# Get the mean of each date sampled\n",
    "df[\"value\"] = df[\"value\"].astype(float)\n",
    "df.set_index(\"date\", inplace=True)\n",
    "mean_values = df.groupby(df.index).mean()\n",
    "mean_values.head()"
   ]
  },
  {
   "cell_type": "markdown",
   "metadata": {},
   "source": [
    "### Notes on this mean\n",
    "\n",
    "Taking this `mean` as bulk density **could be flawed** if layers are overlapping or layers vary in thickness"
   ]
  },
  {
   "cell_type": "code",
   "execution_count": 12,
   "metadata": {},
   "outputs": [],
   "source": [
    "# !pip install plotly\n",
    "import plotly.express as px\n"
   ]
  },
  {
   "cell_type": "code",
   "execution_count": 18,
   "metadata": {},
   "outputs": [
    {
     "data": {
      "application/vnd.plotly.v1+json": {
       "config": {
        "plotlyServerURL": "https://plot.ly"
       },
       "data": [
        {
         "hovertemplate": "Date=%{x}<br>Density=%{y}<extra></extra>",
         "legendgroup": "",
         "line": {
          "color": "#636efa",
          "dash": "solid"
         },
         "marker": {
          "symbol": "circle"
         },
         "mode": "lines",
         "name": "",
         "orientation": "v",
         "showlegend": false,
         "type": "scatter",
         "x": [
          "2019-12-18",
          "2020-01-09",
          "2020-01-23",
          "2020-01-30",
          "2020-02-06",
          "2020-02-13",
          "2020-02-19",
          "2020-02-27",
          "2020-03-05",
          "2020-03-12"
         ],
         "xaxis": "x",
         "y": [
          279,
          156.77777777777777,
          254.16666666666669,
          236,
          254.14102564102566,
          276.1666666666667,
          274.76388888888886,
          295.04545454545456,
          319.93939393939394,
          323.95454545454544
         ],
         "yaxis": "y"
        }
       ],
       "layout": {
        "legend": {
         "tracegroupgap": 0
        },
        "template": {
         "data": {
          "bar": [
           {
            "error_x": {
             "color": "#f2f5fa"
            },
            "error_y": {
             "color": "#f2f5fa"
            },
            "marker": {
             "line": {
              "color": "rgb(17,17,17)",
              "width": 0.5
             },
             "pattern": {
              "fillmode": "overlay",
              "size": 10,
              "solidity": 0.2
             }
            },
            "type": "bar"
           }
          ],
          "barpolar": [
           {
            "marker": {
             "line": {
              "color": "rgb(17,17,17)",
              "width": 0.5
             },
             "pattern": {
              "fillmode": "overlay",
              "size": 10,
              "solidity": 0.2
             }
            },
            "type": "barpolar"
           }
          ],
          "carpet": [
           {
            "aaxis": {
             "endlinecolor": "#A2B1C6",
             "gridcolor": "#506784",
             "linecolor": "#506784",
             "minorgridcolor": "#506784",
             "startlinecolor": "#A2B1C6"
            },
            "baxis": {
             "endlinecolor": "#A2B1C6",
             "gridcolor": "#506784",
             "linecolor": "#506784",
             "minorgridcolor": "#506784",
             "startlinecolor": "#A2B1C6"
            },
            "type": "carpet"
           }
          ],
          "choropleth": [
           {
            "colorbar": {
             "outlinewidth": 0,
             "ticks": ""
            },
            "type": "choropleth"
           }
          ],
          "contour": [
           {
            "colorbar": {
             "outlinewidth": 0,
             "ticks": ""
            },
            "colorscale": [
             [
              0,
              "#0d0887"
             ],
             [
              0.1111111111111111,
              "#46039f"
             ],
             [
              0.2222222222222222,
              "#7201a8"
             ],
             [
              0.3333333333333333,
              "#9c179e"
             ],
             [
              0.4444444444444444,
              "#bd3786"
             ],
             [
              0.5555555555555556,
              "#d8576b"
             ],
             [
              0.6666666666666666,
              "#ed7953"
             ],
             [
              0.7777777777777778,
              "#fb9f3a"
             ],
             [
              0.8888888888888888,
              "#fdca26"
             ],
             [
              1,
              "#f0f921"
             ]
            ],
            "type": "contour"
           }
          ],
          "contourcarpet": [
           {
            "colorbar": {
             "outlinewidth": 0,
             "ticks": ""
            },
            "type": "contourcarpet"
           }
          ],
          "heatmap": [
           {
            "colorbar": {
             "outlinewidth": 0,
             "ticks": ""
            },
            "colorscale": [
             [
              0,
              "#0d0887"
             ],
             [
              0.1111111111111111,
              "#46039f"
             ],
             [
              0.2222222222222222,
              "#7201a8"
             ],
             [
              0.3333333333333333,
              "#9c179e"
             ],
             [
              0.4444444444444444,
              "#bd3786"
             ],
             [
              0.5555555555555556,
              "#d8576b"
             ],
             [
              0.6666666666666666,
              "#ed7953"
             ],
             [
              0.7777777777777778,
              "#fb9f3a"
             ],
             [
              0.8888888888888888,
              "#fdca26"
             ],
             [
              1,
              "#f0f921"
             ]
            ],
            "type": "heatmap"
           }
          ],
          "heatmapgl": [
           {
            "colorbar": {
             "outlinewidth": 0,
             "ticks": ""
            },
            "colorscale": [
             [
              0,
              "#0d0887"
             ],
             [
              0.1111111111111111,
              "#46039f"
             ],
             [
              0.2222222222222222,
              "#7201a8"
             ],
             [
              0.3333333333333333,
              "#9c179e"
             ],
             [
              0.4444444444444444,
              "#bd3786"
             ],
             [
              0.5555555555555556,
              "#d8576b"
             ],
             [
              0.6666666666666666,
              "#ed7953"
             ],
             [
              0.7777777777777778,
              "#fb9f3a"
             ],
             [
              0.8888888888888888,
              "#fdca26"
             ],
             [
              1,
              "#f0f921"
             ]
            ],
            "type": "heatmapgl"
           }
          ],
          "histogram": [
           {
            "marker": {
             "pattern": {
              "fillmode": "overlay",
              "size": 10,
              "solidity": 0.2
             }
            },
            "type": "histogram"
           }
          ],
          "histogram2d": [
           {
            "colorbar": {
             "outlinewidth": 0,
             "ticks": ""
            },
            "colorscale": [
             [
              0,
              "#0d0887"
             ],
             [
              0.1111111111111111,
              "#46039f"
             ],
             [
              0.2222222222222222,
              "#7201a8"
             ],
             [
              0.3333333333333333,
              "#9c179e"
             ],
             [
              0.4444444444444444,
              "#bd3786"
             ],
             [
              0.5555555555555556,
              "#d8576b"
             ],
             [
              0.6666666666666666,
              "#ed7953"
             ],
             [
              0.7777777777777778,
              "#fb9f3a"
             ],
             [
              0.8888888888888888,
              "#fdca26"
             ],
             [
              1,
              "#f0f921"
             ]
            ],
            "type": "histogram2d"
           }
          ],
          "histogram2dcontour": [
           {
            "colorbar": {
             "outlinewidth": 0,
             "ticks": ""
            },
            "colorscale": [
             [
              0,
              "#0d0887"
             ],
             [
              0.1111111111111111,
              "#46039f"
             ],
             [
              0.2222222222222222,
              "#7201a8"
             ],
             [
              0.3333333333333333,
              "#9c179e"
             ],
             [
              0.4444444444444444,
              "#bd3786"
             ],
             [
              0.5555555555555556,
              "#d8576b"
             ],
             [
              0.6666666666666666,
              "#ed7953"
             ],
             [
              0.7777777777777778,
              "#fb9f3a"
             ],
             [
              0.8888888888888888,
              "#fdca26"
             ],
             [
              1,
              "#f0f921"
             ]
            ],
            "type": "histogram2dcontour"
           }
          ],
          "mesh3d": [
           {
            "colorbar": {
             "outlinewidth": 0,
             "ticks": ""
            },
            "type": "mesh3d"
           }
          ],
          "parcoords": [
           {
            "line": {
             "colorbar": {
              "outlinewidth": 0,
              "ticks": ""
             }
            },
            "type": "parcoords"
           }
          ],
          "pie": [
           {
            "automargin": true,
            "type": "pie"
           }
          ],
          "scatter": [
           {
            "marker": {
             "line": {
              "color": "#283442"
             }
            },
            "type": "scatter"
           }
          ],
          "scatter3d": [
           {
            "line": {
             "colorbar": {
              "outlinewidth": 0,
              "ticks": ""
             }
            },
            "marker": {
             "colorbar": {
              "outlinewidth": 0,
              "ticks": ""
             }
            },
            "type": "scatter3d"
           }
          ],
          "scattercarpet": [
           {
            "marker": {
             "colorbar": {
              "outlinewidth": 0,
              "ticks": ""
             }
            },
            "type": "scattercarpet"
           }
          ],
          "scattergeo": [
           {
            "marker": {
             "colorbar": {
              "outlinewidth": 0,
              "ticks": ""
             }
            },
            "type": "scattergeo"
           }
          ],
          "scattergl": [
           {
            "marker": {
             "line": {
              "color": "#283442"
             }
            },
            "type": "scattergl"
           }
          ],
          "scattermapbox": [
           {
            "marker": {
             "colorbar": {
              "outlinewidth": 0,
              "ticks": ""
             }
            },
            "type": "scattermapbox"
           }
          ],
          "scatterpolar": [
           {
            "marker": {
             "colorbar": {
              "outlinewidth": 0,
              "ticks": ""
             }
            },
            "type": "scatterpolar"
           }
          ],
          "scatterpolargl": [
           {
            "marker": {
             "colorbar": {
              "outlinewidth": 0,
              "ticks": ""
             }
            },
            "type": "scatterpolargl"
           }
          ],
          "scatterternary": [
           {
            "marker": {
             "colorbar": {
              "outlinewidth": 0,
              "ticks": ""
             }
            },
            "type": "scatterternary"
           }
          ],
          "surface": [
           {
            "colorbar": {
             "outlinewidth": 0,
             "ticks": ""
            },
            "colorscale": [
             [
              0,
              "#0d0887"
             ],
             [
              0.1111111111111111,
              "#46039f"
             ],
             [
              0.2222222222222222,
              "#7201a8"
             ],
             [
              0.3333333333333333,
              "#9c179e"
             ],
             [
              0.4444444444444444,
              "#bd3786"
             ],
             [
              0.5555555555555556,
              "#d8576b"
             ],
             [
              0.6666666666666666,
              "#ed7953"
             ],
             [
              0.7777777777777778,
              "#fb9f3a"
             ],
             [
              0.8888888888888888,
              "#fdca26"
             ],
             [
              1,
              "#f0f921"
             ]
            ],
            "type": "surface"
           }
          ],
          "table": [
           {
            "cells": {
             "fill": {
              "color": "#506784"
             },
             "line": {
              "color": "rgb(17,17,17)"
             }
            },
            "header": {
             "fill": {
              "color": "#2a3f5f"
             },
             "line": {
              "color": "rgb(17,17,17)"
             }
            },
            "type": "table"
           }
          ]
         },
         "layout": {
          "annotationdefaults": {
           "arrowcolor": "#f2f5fa",
           "arrowhead": 0,
           "arrowwidth": 1
          },
          "autotypenumbers": "strict",
          "coloraxis": {
           "colorbar": {
            "outlinewidth": 0,
            "ticks": ""
           }
          },
          "colorscale": {
           "diverging": [
            [
             0,
             "#8e0152"
            ],
            [
             0.1,
             "#c51b7d"
            ],
            [
             0.2,
             "#de77ae"
            ],
            [
             0.3,
             "#f1b6da"
            ],
            [
             0.4,
             "#fde0ef"
            ],
            [
             0.5,
             "#f7f7f7"
            ],
            [
             0.6,
             "#e6f5d0"
            ],
            [
             0.7,
             "#b8e186"
            ],
            [
             0.8,
             "#7fbc41"
            ],
            [
             0.9,
             "#4d9221"
            ],
            [
             1,
             "#276419"
            ]
           ],
           "sequential": [
            [
             0,
             "#0d0887"
            ],
            [
             0.1111111111111111,
             "#46039f"
            ],
            [
             0.2222222222222222,
             "#7201a8"
            ],
            [
             0.3333333333333333,
             "#9c179e"
            ],
            [
             0.4444444444444444,
             "#bd3786"
            ],
            [
             0.5555555555555556,
             "#d8576b"
            ],
            [
             0.6666666666666666,
             "#ed7953"
            ],
            [
             0.7777777777777778,
             "#fb9f3a"
            ],
            [
             0.8888888888888888,
             "#fdca26"
            ],
            [
             1,
             "#f0f921"
            ]
           ],
           "sequentialminus": [
            [
             0,
             "#0d0887"
            ],
            [
             0.1111111111111111,
             "#46039f"
            ],
            [
             0.2222222222222222,
             "#7201a8"
            ],
            [
             0.3333333333333333,
             "#9c179e"
            ],
            [
             0.4444444444444444,
             "#bd3786"
            ],
            [
             0.5555555555555556,
             "#d8576b"
            ],
            [
             0.6666666666666666,
             "#ed7953"
            ],
            [
             0.7777777777777778,
             "#fb9f3a"
            ],
            [
             0.8888888888888888,
             "#fdca26"
            ],
            [
             1,
             "#f0f921"
            ]
           ]
          },
          "colorway": [
           "#636efa",
           "#EF553B",
           "#00cc96",
           "#ab63fa",
           "#FFA15A",
           "#19d3f3",
           "#FF6692",
           "#B6E880",
           "#FF97FF",
           "#FECB52"
          ],
          "font": {
           "color": "#f2f5fa"
          },
          "geo": {
           "bgcolor": "rgb(17,17,17)",
           "lakecolor": "rgb(17,17,17)",
           "landcolor": "rgb(17,17,17)",
           "showlakes": true,
           "showland": true,
           "subunitcolor": "#506784"
          },
          "hoverlabel": {
           "align": "left"
          },
          "hovermode": "closest",
          "mapbox": {
           "style": "dark"
          },
          "paper_bgcolor": "rgb(17,17,17)",
          "plot_bgcolor": "rgb(17,17,17)",
          "polar": {
           "angularaxis": {
            "gridcolor": "#506784",
            "linecolor": "#506784",
            "ticks": ""
           },
           "bgcolor": "rgb(17,17,17)",
           "radialaxis": {
            "gridcolor": "#506784",
            "linecolor": "#506784",
            "ticks": ""
           }
          },
          "scene": {
           "xaxis": {
            "backgroundcolor": "rgb(17,17,17)",
            "gridcolor": "#506784",
            "gridwidth": 2,
            "linecolor": "#506784",
            "showbackground": true,
            "ticks": "",
            "zerolinecolor": "#C8D4E3"
           },
           "yaxis": {
            "backgroundcolor": "rgb(17,17,17)",
            "gridcolor": "#506784",
            "gridwidth": 2,
            "linecolor": "#506784",
            "showbackground": true,
            "ticks": "",
            "zerolinecolor": "#C8D4E3"
           },
           "zaxis": {
            "backgroundcolor": "rgb(17,17,17)",
            "gridcolor": "#506784",
            "gridwidth": 2,
            "linecolor": "#506784",
            "showbackground": true,
            "ticks": "",
            "zerolinecolor": "#C8D4E3"
           }
          },
          "shapedefaults": {
           "line": {
            "color": "#f2f5fa"
           }
          },
          "sliderdefaults": {
           "bgcolor": "#C8D4E3",
           "bordercolor": "rgb(17,17,17)",
           "borderwidth": 1,
           "tickwidth": 0
          },
          "ternary": {
           "aaxis": {
            "gridcolor": "#506784",
            "linecolor": "#506784",
            "ticks": ""
           },
           "baxis": {
            "gridcolor": "#506784",
            "linecolor": "#506784",
            "ticks": ""
           },
           "bgcolor": "rgb(17,17,17)",
           "caxis": {
            "gridcolor": "#506784",
            "linecolor": "#506784",
            "ticks": ""
           }
          },
          "title": {
           "x": 0.05
          },
          "updatemenudefaults": {
           "bgcolor": "#506784",
           "borderwidth": 0
          },
          "xaxis": {
           "automargin": true,
           "gridcolor": "#283442",
           "linecolor": "#506784",
           "ticks": "",
           "title": {
            "standoff": 15
           },
           "zerolinecolor": "#283442",
           "zerolinewidth": 2
          },
          "yaxis": {
           "automargin": true,
           "gridcolor": "#283442",
           "linecolor": "#506784",
           "ticks": "",
           "title": {
            "standoff": 15
           },
           "zerolinecolor": "#283442",
           "zerolinewidth": 2
          }
         }
        },
        "title": {
         "text": "Mean Density Banner Open"
        },
        "xaxis": {
         "anchor": "y",
         "domain": [
          0,
          1
         ],
         "title": {
          "text": "Date"
         }
        },
        "yaxis": {
         "anchor": "x",
         "domain": [
          0,
          1
         ],
         "title": {
          "text": "Density"
         }
        }
       }
      },
      "text/html": [
       "<div>                            <div id=\"f1c3fa8e-b8f2-4eb1-81e6-2feffe41b84f\" class=\"plotly-graph-div\" style=\"height:525px; width:100%;\"></div>            <script type=\"text/javascript\">                require([\"plotly\"], function(Plotly) {                    window.PLOTLYENV=window.PLOTLYENV || {};                                    if (document.getElementById(\"f1c3fa8e-b8f2-4eb1-81e6-2feffe41b84f\")) {                    Plotly.newPlot(                        \"f1c3fa8e-b8f2-4eb1-81e6-2feffe41b84f\",                        [{\"hovertemplate\":\"Date=%{x}\\u003cbr\\u003eDensity=%{y}\\u003cextra\\u003e\\u003c\\u002fextra\\u003e\",\"legendgroup\":\"\",\"line\":{\"color\":\"#636efa\",\"dash\":\"solid\"},\"marker\":{\"symbol\":\"circle\"},\"mode\":\"lines\",\"name\":\"\",\"orientation\":\"v\",\"showlegend\":false,\"x\":[\"2019-12-18\",\"2020-01-09\",\"2020-01-23\",\"2020-01-30\",\"2020-02-06\",\"2020-02-13\",\"2020-02-19\",\"2020-02-27\",\"2020-03-05\",\"2020-03-12\"],\"xaxis\":\"x\",\"y\":[279.0,156.77777777777777,254.16666666666669,236.0,254.14102564102566,276.1666666666667,274.76388888888886,295.04545454545456,319.93939393939394,323.95454545454544],\"yaxis\":\"y\",\"type\":\"scatter\"}],                        {\"template\":{\"data\":{\"barpolar\":[{\"marker\":{\"line\":{\"color\":\"rgb(17,17,17)\",\"width\":0.5},\"pattern\":{\"fillmode\":\"overlay\",\"size\":10,\"solidity\":0.2}},\"type\":\"barpolar\"}],\"bar\":[{\"error_x\":{\"color\":\"#f2f5fa\"},\"error_y\":{\"color\":\"#f2f5fa\"},\"marker\":{\"line\":{\"color\":\"rgb(17,17,17)\",\"width\":0.5},\"pattern\":{\"fillmode\":\"overlay\",\"size\":10,\"solidity\":0.2}},\"type\":\"bar\"}],\"carpet\":[{\"aaxis\":{\"endlinecolor\":\"#A2B1C6\",\"gridcolor\":\"#506784\",\"linecolor\":\"#506784\",\"minorgridcolor\":\"#506784\",\"startlinecolor\":\"#A2B1C6\"},\"baxis\":{\"endlinecolor\":\"#A2B1C6\",\"gridcolor\":\"#506784\",\"linecolor\":\"#506784\",\"minorgridcolor\":\"#506784\",\"startlinecolor\":\"#A2B1C6\"},\"type\":\"carpet\"}],\"choropleth\":[{\"colorbar\":{\"outlinewidth\":0,\"ticks\":\"\"},\"type\":\"choropleth\"}],\"contourcarpet\":[{\"colorbar\":{\"outlinewidth\":0,\"ticks\":\"\"},\"type\":\"contourcarpet\"}],\"contour\":[{\"colorbar\":{\"outlinewidth\":0,\"ticks\":\"\"},\"colorscale\":[[0.0,\"#0d0887\"],[0.1111111111111111,\"#46039f\"],[0.2222222222222222,\"#7201a8\"],[0.3333333333333333,\"#9c179e\"],[0.4444444444444444,\"#bd3786\"],[0.5555555555555556,\"#d8576b\"],[0.6666666666666666,\"#ed7953\"],[0.7777777777777778,\"#fb9f3a\"],[0.8888888888888888,\"#fdca26\"],[1.0,\"#f0f921\"]],\"type\":\"contour\"}],\"heatmapgl\":[{\"colorbar\":{\"outlinewidth\":0,\"ticks\":\"\"},\"colorscale\":[[0.0,\"#0d0887\"],[0.1111111111111111,\"#46039f\"],[0.2222222222222222,\"#7201a8\"],[0.3333333333333333,\"#9c179e\"],[0.4444444444444444,\"#bd3786\"],[0.5555555555555556,\"#d8576b\"],[0.6666666666666666,\"#ed7953\"],[0.7777777777777778,\"#fb9f3a\"],[0.8888888888888888,\"#fdca26\"],[1.0,\"#f0f921\"]],\"type\":\"heatmapgl\"}],\"heatmap\":[{\"colorbar\":{\"outlinewidth\":0,\"ticks\":\"\"},\"colorscale\":[[0.0,\"#0d0887\"],[0.1111111111111111,\"#46039f\"],[0.2222222222222222,\"#7201a8\"],[0.3333333333333333,\"#9c179e\"],[0.4444444444444444,\"#bd3786\"],[0.5555555555555556,\"#d8576b\"],[0.6666666666666666,\"#ed7953\"],[0.7777777777777778,\"#fb9f3a\"],[0.8888888888888888,\"#fdca26\"],[1.0,\"#f0f921\"]],\"type\":\"heatmap\"}],\"histogram2dcontour\":[{\"colorbar\":{\"outlinewidth\":0,\"ticks\":\"\"},\"colorscale\":[[0.0,\"#0d0887\"],[0.1111111111111111,\"#46039f\"],[0.2222222222222222,\"#7201a8\"],[0.3333333333333333,\"#9c179e\"],[0.4444444444444444,\"#bd3786\"],[0.5555555555555556,\"#d8576b\"],[0.6666666666666666,\"#ed7953\"],[0.7777777777777778,\"#fb9f3a\"],[0.8888888888888888,\"#fdca26\"],[1.0,\"#f0f921\"]],\"type\":\"histogram2dcontour\"}],\"histogram2d\":[{\"colorbar\":{\"outlinewidth\":0,\"ticks\":\"\"},\"colorscale\":[[0.0,\"#0d0887\"],[0.1111111111111111,\"#46039f\"],[0.2222222222222222,\"#7201a8\"],[0.3333333333333333,\"#9c179e\"],[0.4444444444444444,\"#bd3786\"],[0.5555555555555556,\"#d8576b\"],[0.6666666666666666,\"#ed7953\"],[0.7777777777777778,\"#fb9f3a\"],[0.8888888888888888,\"#fdca26\"],[1.0,\"#f0f921\"]],\"type\":\"histogram2d\"}],\"histogram\":[{\"marker\":{\"pattern\":{\"fillmode\":\"overlay\",\"size\":10,\"solidity\":0.2}},\"type\":\"histogram\"}],\"mesh3d\":[{\"colorbar\":{\"outlinewidth\":0,\"ticks\":\"\"},\"type\":\"mesh3d\"}],\"parcoords\":[{\"line\":{\"colorbar\":{\"outlinewidth\":0,\"ticks\":\"\"}},\"type\":\"parcoords\"}],\"pie\":[{\"automargin\":true,\"type\":\"pie\"}],\"scatter3d\":[{\"line\":{\"colorbar\":{\"outlinewidth\":0,\"ticks\":\"\"}},\"marker\":{\"colorbar\":{\"outlinewidth\":0,\"ticks\":\"\"}},\"type\":\"scatter3d\"}],\"scattercarpet\":[{\"marker\":{\"colorbar\":{\"outlinewidth\":0,\"ticks\":\"\"}},\"type\":\"scattercarpet\"}],\"scattergeo\":[{\"marker\":{\"colorbar\":{\"outlinewidth\":0,\"ticks\":\"\"}},\"type\":\"scattergeo\"}],\"scattergl\":[{\"marker\":{\"line\":{\"color\":\"#283442\"}},\"type\":\"scattergl\"}],\"scattermapbox\":[{\"marker\":{\"colorbar\":{\"outlinewidth\":0,\"ticks\":\"\"}},\"type\":\"scattermapbox\"}],\"scatterpolargl\":[{\"marker\":{\"colorbar\":{\"outlinewidth\":0,\"ticks\":\"\"}},\"type\":\"scatterpolargl\"}],\"scatterpolar\":[{\"marker\":{\"colorbar\":{\"outlinewidth\":0,\"ticks\":\"\"}},\"type\":\"scatterpolar\"}],\"scatter\":[{\"marker\":{\"line\":{\"color\":\"#283442\"}},\"type\":\"scatter\"}],\"scatterternary\":[{\"marker\":{\"colorbar\":{\"outlinewidth\":0,\"ticks\":\"\"}},\"type\":\"scatterternary\"}],\"surface\":[{\"colorbar\":{\"outlinewidth\":0,\"ticks\":\"\"},\"colorscale\":[[0.0,\"#0d0887\"],[0.1111111111111111,\"#46039f\"],[0.2222222222222222,\"#7201a8\"],[0.3333333333333333,\"#9c179e\"],[0.4444444444444444,\"#bd3786\"],[0.5555555555555556,\"#d8576b\"],[0.6666666666666666,\"#ed7953\"],[0.7777777777777778,\"#fb9f3a\"],[0.8888888888888888,\"#fdca26\"],[1.0,\"#f0f921\"]],\"type\":\"surface\"}],\"table\":[{\"cells\":{\"fill\":{\"color\":\"#506784\"},\"line\":{\"color\":\"rgb(17,17,17)\"}},\"header\":{\"fill\":{\"color\":\"#2a3f5f\"},\"line\":{\"color\":\"rgb(17,17,17)\"}},\"type\":\"table\"}]},\"layout\":{\"annotationdefaults\":{\"arrowcolor\":\"#f2f5fa\",\"arrowhead\":0,\"arrowwidth\":1},\"autotypenumbers\":\"strict\",\"coloraxis\":{\"colorbar\":{\"outlinewidth\":0,\"ticks\":\"\"}},\"colorscale\":{\"diverging\":[[0,\"#8e0152\"],[0.1,\"#c51b7d\"],[0.2,\"#de77ae\"],[0.3,\"#f1b6da\"],[0.4,\"#fde0ef\"],[0.5,\"#f7f7f7\"],[0.6,\"#e6f5d0\"],[0.7,\"#b8e186\"],[0.8,\"#7fbc41\"],[0.9,\"#4d9221\"],[1,\"#276419\"]],\"sequential\":[[0.0,\"#0d0887\"],[0.1111111111111111,\"#46039f\"],[0.2222222222222222,\"#7201a8\"],[0.3333333333333333,\"#9c179e\"],[0.4444444444444444,\"#bd3786\"],[0.5555555555555556,\"#d8576b\"],[0.6666666666666666,\"#ed7953\"],[0.7777777777777778,\"#fb9f3a\"],[0.8888888888888888,\"#fdca26\"],[1.0,\"#f0f921\"]],\"sequentialminus\":[[0.0,\"#0d0887\"],[0.1111111111111111,\"#46039f\"],[0.2222222222222222,\"#7201a8\"],[0.3333333333333333,\"#9c179e\"],[0.4444444444444444,\"#bd3786\"],[0.5555555555555556,\"#d8576b\"],[0.6666666666666666,\"#ed7953\"],[0.7777777777777778,\"#fb9f3a\"],[0.8888888888888888,\"#fdca26\"],[1.0,\"#f0f921\"]]},\"colorway\":[\"#636efa\",\"#EF553B\",\"#00cc96\",\"#ab63fa\",\"#FFA15A\",\"#19d3f3\",\"#FF6692\",\"#B6E880\",\"#FF97FF\",\"#FECB52\"],\"font\":{\"color\":\"#f2f5fa\"},\"geo\":{\"bgcolor\":\"rgb(17,17,17)\",\"lakecolor\":\"rgb(17,17,17)\",\"landcolor\":\"rgb(17,17,17)\",\"showlakes\":true,\"showland\":true,\"subunitcolor\":\"#506784\"},\"hoverlabel\":{\"align\":\"left\"},\"hovermode\":\"closest\",\"mapbox\":{\"style\":\"dark\"},\"paper_bgcolor\":\"rgb(17,17,17)\",\"plot_bgcolor\":\"rgb(17,17,17)\",\"polar\":{\"angularaxis\":{\"gridcolor\":\"#506784\",\"linecolor\":\"#506784\",\"ticks\":\"\"},\"bgcolor\":\"rgb(17,17,17)\",\"radialaxis\":{\"gridcolor\":\"#506784\",\"linecolor\":\"#506784\",\"ticks\":\"\"}},\"scene\":{\"xaxis\":{\"backgroundcolor\":\"rgb(17,17,17)\",\"gridcolor\":\"#506784\",\"gridwidth\":2,\"linecolor\":\"#506784\",\"showbackground\":true,\"ticks\":\"\",\"zerolinecolor\":\"#C8D4E3\"},\"yaxis\":{\"backgroundcolor\":\"rgb(17,17,17)\",\"gridcolor\":\"#506784\",\"gridwidth\":2,\"linecolor\":\"#506784\",\"showbackground\":true,\"ticks\":\"\",\"zerolinecolor\":\"#C8D4E3\"},\"zaxis\":{\"backgroundcolor\":\"rgb(17,17,17)\",\"gridcolor\":\"#506784\",\"gridwidth\":2,\"linecolor\":\"#506784\",\"showbackground\":true,\"ticks\":\"\",\"zerolinecolor\":\"#C8D4E3\"}},\"shapedefaults\":{\"line\":{\"color\":\"#f2f5fa\"}},\"sliderdefaults\":{\"bgcolor\":\"#C8D4E3\",\"bordercolor\":\"rgb(17,17,17)\",\"borderwidth\":1,\"tickwidth\":0},\"ternary\":{\"aaxis\":{\"gridcolor\":\"#506784\",\"linecolor\":\"#506784\",\"ticks\":\"\"},\"baxis\":{\"gridcolor\":\"#506784\",\"linecolor\":\"#506784\",\"ticks\":\"\"},\"bgcolor\":\"rgb(17,17,17)\",\"caxis\":{\"gridcolor\":\"#506784\",\"linecolor\":\"#506784\",\"ticks\":\"\"}},\"title\":{\"x\":0.05},\"updatemenudefaults\":{\"bgcolor\":\"#506784\",\"borderwidth\":0},\"xaxis\":{\"automargin\":true,\"gridcolor\":\"#283442\",\"linecolor\":\"#506784\",\"ticks\":\"\",\"title\":{\"standoff\":15},\"zerolinecolor\":\"#283442\",\"zerolinewidth\":2},\"yaxis\":{\"automargin\":true,\"gridcolor\":\"#283442\",\"linecolor\":\"#506784\",\"ticks\":\"\",\"title\":{\"standoff\":15},\"zerolinecolor\":\"#283442\",\"zerolinewidth\":2}}},\"xaxis\":{\"anchor\":\"y\",\"domain\":[0.0,1.0],\"title\":{\"text\":\"Date\"}},\"yaxis\":{\"anchor\":\"x\",\"domain\":[0.0,1.0],\"title\":{\"text\":\"Density\"}},\"legend\":{\"tracegroupgap\":0},\"title\":{\"text\":\"Mean Density Banner Open\"}},                        {\"responsive\": true}                    ).then(function(){\n",
       "                            \n",
       "var gd = document.getElementById('f1c3fa8e-b8f2-4eb1-81e6-2feffe41b84f');\n",
       "var x = new MutationObserver(function (mutations, observer) {{\n",
       "        var display = window.getComputedStyle(gd).display;\n",
       "        if (!display || display === 'none') {{\n",
       "            console.log([gd, 'removed!']);\n",
       "            Plotly.purge(gd);\n",
       "            observer.disconnect();\n",
       "        }}\n",
       "}});\n",
       "\n",
       "// Listen for the removal of the full notebook cells\n",
       "var notebookContainer = gd.closest('#notebook-container');\n",
       "if (notebookContainer) {{\n",
       "    x.observe(notebookContainer, {childList: true});\n",
       "}}\n",
       "\n",
       "// Listen for the clearing of the current output cell\n",
       "var outputEl = gd.closest('.output');\n",
       "if (outputEl) {{\n",
       "    x.observe(outputEl, {childList: true});\n",
       "}}\n",
       "\n",
       "                        })                };                });            </script>        </div>"
      ]
     },
     "metadata": {},
     "output_type": "display_data"
    }
   ],
   "source": [
    "# Plot the timeseries of mean density\n",
    "fig = px.line(\n",
    "    mean_values, x=mean_values.index, y='value',\n",
    "    title=f'Mean Density - {site_id}',\n",
    "    labels={'value': 'Density', 'date': 'Date'}\n",
    ")\n",
    "\n",
    "fig.update_layout(\n",
    "    template='plotly_dark'\n",
    ")\n",
    "\n",
    "# Show the plot\n",
    "fig.show()\n",
    "\n",
    "# alternative matplotlib code\n",
    "# mean_values[\"value\"].plot()\n",
    "# plt.title('Mean Density by Date')\n",
    "# plt.xlabel('Date')\n",
    "# plt.ylabel('Mean Density')\n",
    "# plt.gcf().autofmt_xdate()\n",
    "# plt.show()"
   ]
  },
  {
   "cell_type": "code",
   "execution_count": 19,
   "metadata": {},
   "outputs": [
    {
     "data": {
      "application/vnd.plotly.v1+json": {
       "config": {
        "plotlyServerURL": "https://plot.ly"
       },
       "data": [
        {
         "alignmentgroup": "True",
         "hoverinfo": "y+name",
         "hovertemplate": "date=%{x}<br>value=%{y}<extra></extra>",
         "legendgroup": "",
         "marker": {
          "color": "#636efa"
         },
         "name": "",
         "notched": true,
         "offsetgroup": "",
         "orientation": "v",
         "showlegend": false,
         "type": "box",
         "x": [
          "2019-12-18",
          "2019-12-18",
          "2019-12-18",
          "2019-12-18",
          "2019-12-18",
          "2019-12-18",
          "2019-12-18",
          "2019-12-18",
          "2020-01-09",
          "2020-01-09",
          "2020-01-09",
          "2020-01-09",
          "2020-01-09",
          "2020-01-09",
          "2020-01-09",
          "2020-01-09",
          "2020-01-09",
          "2020-01-09",
          "2020-01-09",
          "2020-01-09",
          "2020-01-09",
          "2020-01-09",
          "2020-01-09",
          "2020-01-09",
          "2020-01-09",
          "2020-01-09",
          "2020-01-23",
          "2020-01-23",
          "2020-01-23",
          "2020-01-23",
          "2020-01-23",
          "2020-01-23",
          "2020-01-23",
          "2020-01-23",
          "2020-01-23",
          "2020-01-23",
          "2020-01-23",
          "2020-01-23",
          "2020-01-23",
          "2020-01-23",
          "2020-01-23",
          "2020-01-23",
          "2020-01-23",
          "2020-01-23",
          "2020-01-23",
          "2020-01-23",
          "2020-01-23",
          "2020-01-23",
          "2020-01-30",
          "2020-01-30",
          "2020-01-30",
          "2020-01-30",
          "2020-01-30",
          "2020-01-30",
          "2020-01-30",
          "2020-01-30",
          "2020-01-30",
          "2020-01-30",
          "2020-01-30",
          "2020-01-30",
          "2020-01-30",
          "2020-01-30",
          "2020-01-30",
          "2020-01-30",
          "2020-01-30",
          "2020-01-30",
          "2020-01-30",
          "2020-01-30",
          "2020-01-30",
          "2020-01-30",
          "2020-01-30",
          "2020-01-30",
          "2020-02-06",
          "2020-02-06",
          "2020-02-06",
          "2020-02-06",
          "2020-02-06",
          "2020-02-06",
          "2020-02-06",
          "2020-02-06",
          "2020-02-06",
          "2020-02-06",
          "2020-02-06",
          "2020-02-06",
          "2020-02-06",
          "2020-02-06",
          "2020-02-06",
          "2020-02-06",
          "2020-02-06",
          "2020-02-06",
          "2020-02-06",
          "2020-02-06",
          "2020-02-06",
          "2020-02-06",
          "2020-02-06",
          "2020-02-06",
          "2020-02-06",
          "2020-02-06",
          "2020-02-13",
          "2020-02-13",
          "2020-02-13",
          "2020-02-13",
          "2020-02-13",
          "2020-02-13",
          "2020-02-13",
          "2020-02-13",
          "2020-02-13",
          "2020-02-13",
          "2020-02-13",
          "2020-02-13",
          "2020-02-13",
          "2020-02-13",
          "2020-02-13",
          "2020-02-13",
          "2020-02-13",
          "2020-02-13",
          "2020-02-13",
          "2020-02-13",
          "2020-02-13",
          "2020-02-13",
          "2020-02-13",
          "2020-02-13",
          "2020-02-13",
          "2020-02-13",
          "2020-02-19",
          "2020-02-19",
          "2020-02-19",
          "2020-02-19",
          "2020-02-19",
          "2020-02-19",
          "2020-02-19",
          "2020-02-19",
          "2020-02-19",
          "2020-02-19",
          "2020-02-19",
          "2020-02-19",
          "2020-02-19",
          "2020-02-19",
          "2020-02-19",
          "2020-02-19",
          "2020-02-19",
          "2020-02-19",
          "2020-02-19",
          "2020-02-19",
          "2020-02-19",
          "2020-02-19",
          "2020-02-19",
          "2020-02-19",
          "2020-02-19",
          "2020-02-19",
          "2020-02-27",
          "2020-02-27",
          "2020-02-27",
          "2020-02-27",
          "2020-02-27",
          "2020-02-27",
          "2020-02-27",
          "2020-02-27",
          "2020-02-27",
          "2020-02-27",
          "2020-02-27",
          "2020-02-27",
          "2020-02-27",
          "2020-02-27",
          "2020-02-27",
          "2020-02-27",
          "2020-02-27",
          "2020-02-27",
          "2020-02-27",
          "2020-02-27",
          "2020-02-27",
          "2020-02-27",
          "2020-02-27",
          "2020-02-27",
          "2020-03-05",
          "2020-03-05",
          "2020-03-05",
          "2020-03-05",
          "2020-03-05",
          "2020-03-05",
          "2020-03-05",
          "2020-03-05",
          "2020-03-05",
          "2020-03-05",
          "2020-03-05",
          "2020-03-05",
          "2020-03-05",
          "2020-03-05",
          "2020-03-05",
          "2020-03-05",
          "2020-03-05",
          "2020-03-05",
          "2020-03-05",
          "2020-03-05",
          "2020-03-05",
          "2020-03-05",
          "2020-03-12",
          "2020-03-12",
          "2020-03-12",
          "2020-03-12",
          "2020-03-12",
          "2020-03-12",
          "2020-03-12",
          "2020-03-12",
          "2020-03-12",
          "2020-03-12",
          "2020-03-12",
          "2020-03-12",
          "2020-03-12",
          "2020-03-12",
          "2020-03-12",
          "2020-03-12",
          "2020-03-12",
          "2020-03-12",
          "2020-03-12",
          "2020-03-12",
          "2020-03-12",
          "2020-03-12"
         ],
         "x0": " ",
         "xaxis": "x",
         "y": [
          "268.0",
          "377.0",
          "228.0",
          "243.0",
          "268.0",
          "377.0",
          "228.0",
          "243.0",
          "60.0",
          "65.0",
          "116.0",
          "133.0",
          "198.0",
          "138.0",
          "163.0",
          "273.0",
          "265.0",
          "60.0",
          "65.0",
          "116.0",
          "133.0",
          "198.0",
          "138.0",
          "163.0",
          "273.0",
          "265.0",
          "121.0",
          "175.5",
          "204.66666666666666",
          "221.0",
          "254.5",
          "282.5",
          "312.0",
          "299.5",
          "315.5",
          "317.6666666666667",
          "292.0",
          "121.0",
          "175.5",
          "204.66666666666663",
          "221.0",
          "254.5",
          "282.5",
          "312.0",
          "299.5",
          "315.5",
          "317.6666666666667",
          "292.0",
          "130.0",
          "138.5",
          "133.0",
          "157.0",
          "202.5",
          "262.5",
          "222.5",
          "315.0",
          "336.0",
          "330.0",
          "302.5",
          "302.5",
          "130.0",
          "138.5",
          "133.0",
          "157.0",
          "202.5",
          "262.5",
          "222.5",
          "315.0",
          "336.0",
          "330.0",
          "302.5",
          "302.5",
          "89.0",
          "118.0",
          "175.33333333333334",
          "189.5",
          "213.0",
          "264.5",
          "293.5",
          "316.0",
          "339.5",
          "342.5",
          "322.0",
          "311.0",
          "330.0",
          "89.0",
          "118.0",
          "175.33333333333334",
          "189.5",
          "213.0",
          "264.5",
          "293.5",
          "316.0",
          "339.5",
          "342.5",
          "322.0",
          "311.0",
          "330.0",
          "146.5",
          "152.0",
          "207.0",
          "239.5",
          "253.5",
          "298.0",
          "329.0",
          "346.5",
          "346.5",
          "344.5",
          "332.5",
          "318.5",
          null,
          "146.5",
          "152.0",
          "207.0",
          "239.5",
          "253.5",
          "298.0",
          "329.0",
          "346.5",
          "346.5",
          "344.5",
          "332.5",
          "318.5",
          null,
          "114.66666666666667",
          "161.0",
          "191.5",
          "230.5",
          "257.5",
          "274.0",
          "316.0",
          "350.5",
          "362.0",
          "370.0",
          "336.0",
          "333.5",
          null,
          "114.66666666666669",
          "161.0",
          "191.5",
          "230.5",
          "257.5",
          "274.0",
          "316.0",
          "350.5",
          "362.0",
          "370.0",
          "336.0",
          "333.5",
          null,
          "158.0",
          "192.0",
          "233.5",
          "267.0",
          "284.0",
          "328.0",
          "356.5",
          "368.5",
          "373.5",
          "344.5",
          "340.0",
          null,
          "158.0",
          "192.0",
          "233.5",
          "267.0",
          "284.0",
          "328.0",
          "356.5",
          "368.5",
          "373.5",
          "344.5",
          "340.0",
          null,
          "233.5",
          "227.5",
          "274.0",
          "296.0",
          "327.0",
          "353.0",
          "369.5",
          "379.0",
          "378.5",
          "338.0",
          "343.3333333333333",
          "233.5",
          "227.5",
          "274.0",
          "296.0",
          "327.0",
          "353.0",
          "369.5",
          "379.0",
          "378.5",
          "338.0",
          "343.3333333333333",
          "204.5",
          "271.0",
          "265.0",
          "313.5",
          "312.0",
          "347.0",
          "374.5",
          "394.0",
          "381.5",
          "352.5",
          "348.0",
          "204.5",
          "271.0",
          "265.0",
          "313.5",
          "312.0",
          "347.0",
          "374.5",
          "394.0",
          "381.5",
          "352.5",
          "348.0"
         ],
         "y0": " ",
         "yaxis": "y"
        }
       ],
       "layout": {
        "boxmode": "group",
        "legend": {
         "tracegroupgap": 0
        },
        "template": {
         "data": {
          "bar": [
           {
            "error_x": {
             "color": "#f2f5fa"
            },
            "error_y": {
             "color": "#f2f5fa"
            },
            "marker": {
             "line": {
              "color": "rgb(17,17,17)",
              "width": 0.5
             },
             "pattern": {
              "fillmode": "overlay",
              "size": 10,
              "solidity": 0.2
             }
            },
            "type": "bar"
           }
          ],
          "barpolar": [
           {
            "marker": {
             "line": {
              "color": "rgb(17,17,17)",
              "width": 0.5
             },
             "pattern": {
              "fillmode": "overlay",
              "size": 10,
              "solidity": 0.2
             }
            },
            "type": "barpolar"
           }
          ],
          "carpet": [
           {
            "aaxis": {
             "endlinecolor": "#A2B1C6",
             "gridcolor": "#506784",
             "linecolor": "#506784",
             "minorgridcolor": "#506784",
             "startlinecolor": "#A2B1C6"
            },
            "baxis": {
             "endlinecolor": "#A2B1C6",
             "gridcolor": "#506784",
             "linecolor": "#506784",
             "minorgridcolor": "#506784",
             "startlinecolor": "#A2B1C6"
            },
            "type": "carpet"
           }
          ],
          "choropleth": [
           {
            "colorbar": {
             "outlinewidth": 0,
             "ticks": ""
            },
            "type": "choropleth"
           }
          ],
          "contour": [
           {
            "colorbar": {
             "outlinewidth": 0,
             "ticks": ""
            },
            "colorscale": [
             [
              0,
              "#0d0887"
             ],
             [
              0.1111111111111111,
              "#46039f"
             ],
             [
              0.2222222222222222,
              "#7201a8"
             ],
             [
              0.3333333333333333,
              "#9c179e"
             ],
             [
              0.4444444444444444,
              "#bd3786"
             ],
             [
              0.5555555555555556,
              "#d8576b"
             ],
             [
              0.6666666666666666,
              "#ed7953"
             ],
             [
              0.7777777777777778,
              "#fb9f3a"
             ],
             [
              0.8888888888888888,
              "#fdca26"
             ],
             [
              1,
              "#f0f921"
             ]
            ],
            "type": "contour"
           }
          ],
          "contourcarpet": [
           {
            "colorbar": {
             "outlinewidth": 0,
             "ticks": ""
            },
            "type": "contourcarpet"
           }
          ],
          "heatmap": [
           {
            "colorbar": {
             "outlinewidth": 0,
             "ticks": ""
            },
            "colorscale": [
             [
              0,
              "#0d0887"
             ],
             [
              0.1111111111111111,
              "#46039f"
             ],
             [
              0.2222222222222222,
              "#7201a8"
             ],
             [
              0.3333333333333333,
              "#9c179e"
             ],
             [
              0.4444444444444444,
              "#bd3786"
             ],
             [
              0.5555555555555556,
              "#d8576b"
             ],
             [
              0.6666666666666666,
              "#ed7953"
             ],
             [
              0.7777777777777778,
              "#fb9f3a"
             ],
             [
              0.8888888888888888,
              "#fdca26"
             ],
             [
              1,
              "#f0f921"
             ]
            ],
            "type": "heatmap"
           }
          ],
          "heatmapgl": [
           {
            "colorbar": {
             "outlinewidth": 0,
             "ticks": ""
            },
            "colorscale": [
             [
              0,
              "#0d0887"
             ],
             [
              0.1111111111111111,
              "#46039f"
             ],
             [
              0.2222222222222222,
              "#7201a8"
             ],
             [
              0.3333333333333333,
              "#9c179e"
             ],
             [
              0.4444444444444444,
              "#bd3786"
             ],
             [
              0.5555555555555556,
              "#d8576b"
             ],
             [
              0.6666666666666666,
              "#ed7953"
             ],
             [
              0.7777777777777778,
              "#fb9f3a"
             ],
             [
              0.8888888888888888,
              "#fdca26"
             ],
             [
              1,
              "#f0f921"
             ]
            ],
            "type": "heatmapgl"
           }
          ],
          "histogram": [
           {
            "marker": {
             "pattern": {
              "fillmode": "overlay",
              "size": 10,
              "solidity": 0.2
             }
            },
            "type": "histogram"
           }
          ],
          "histogram2d": [
           {
            "colorbar": {
             "outlinewidth": 0,
             "ticks": ""
            },
            "colorscale": [
             [
              0,
              "#0d0887"
             ],
             [
              0.1111111111111111,
              "#46039f"
             ],
             [
              0.2222222222222222,
              "#7201a8"
             ],
             [
              0.3333333333333333,
              "#9c179e"
             ],
             [
              0.4444444444444444,
              "#bd3786"
             ],
             [
              0.5555555555555556,
              "#d8576b"
             ],
             [
              0.6666666666666666,
              "#ed7953"
             ],
             [
              0.7777777777777778,
              "#fb9f3a"
             ],
             [
              0.8888888888888888,
              "#fdca26"
             ],
             [
              1,
              "#f0f921"
             ]
            ],
            "type": "histogram2d"
           }
          ],
          "histogram2dcontour": [
           {
            "colorbar": {
             "outlinewidth": 0,
             "ticks": ""
            },
            "colorscale": [
             [
              0,
              "#0d0887"
             ],
             [
              0.1111111111111111,
              "#46039f"
             ],
             [
              0.2222222222222222,
              "#7201a8"
             ],
             [
              0.3333333333333333,
              "#9c179e"
             ],
             [
              0.4444444444444444,
              "#bd3786"
             ],
             [
              0.5555555555555556,
              "#d8576b"
             ],
             [
              0.6666666666666666,
              "#ed7953"
             ],
             [
              0.7777777777777778,
              "#fb9f3a"
             ],
             [
              0.8888888888888888,
              "#fdca26"
             ],
             [
              1,
              "#f0f921"
             ]
            ],
            "type": "histogram2dcontour"
           }
          ],
          "mesh3d": [
           {
            "colorbar": {
             "outlinewidth": 0,
             "ticks": ""
            },
            "type": "mesh3d"
           }
          ],
          "parcoords": [
           {
            "line": {
             "colorbar": {
              "outlinewidth": 0,
              "ticks": ""
             }
            },
            "type": "parcoords"
           }
          ],
          "pie": [
           {
            "automargin": true,
            "type": "pie"
           }
          ],
          "scatter": [
           {
            "marker": {
             "line": {
              "color": "#283442"
             }
            },
            "type": "scatter"
           }
          ],
          "scatter3d": [
           {
            "line": {
             "colorbar": {
              "outlinewidth": 0,
              "ticks": ""
             }
            },
            "marker": {
             "colorbar": {
              "outlinewidth": 0,
              "ticks": ""
             }
            },
            "type": "scatter3d"
           }
          ],
          "scattercarpet": [
           {
            "marker": {
             "colorbar": {
              "outlinewidth": 0,
              "ticks": ""
             }
            },
            "type": "scattercarpet"
           }
          ],
          "scattergeo": [
           {
            "marker": {
             "colorbar": {
              "outlinewidth": 0,
              "ticks": ""
             }
            },
            "type": "scattergeo"
           }
          ],
          "scattergl": [
           {
            "marker": {
             "line": {
              "color": "#283442"
             }
            },
            "type": "scattergl"
           }
          ],
          "scattermapbox": [
           {
            "marker": {
             "colorbar": {
              "outlinewidth": 0,
              "ticks": ""
             }
            },
            "type": "scattermapbox"
           }
          ],
          "scatterpolar": [
           {
            "marker": {
             "colorbar": {
              "outlinewidth": 0,
              "ticks": ""
             }
            },
            "type": "scatterpolar"
           }
          ],
          "scatterpolargl": [
           {
            "marker": {
             "colorbar": {
              "outlinewidth": 0,
              "ticks": ""
             }
            },
            "type": "scatterpolargl"
           }
          ],
          "scatterternary": [
           {
            "marker": {
             "colorbar": {
              "outlinewidth": 0,
              "ticks": ""
             }
            },
            "type": "scatterternary"
           }
          ],
          "surface": [
           {
            "colorbar": {
             "outlinewidth": 0,
             "ticks": ""
            },
            "colorscale": [
             [
              0,
              "#0d0887"
             ],
             [
              0.1111111111111111,
              "#46039f"
             ],
             [
              0.2222222222222222,
              "#7201a8"
             ],
             [
              0.3333333333333333,
              "#9c179e"
             ],
             [
              0.4444444444444444,
              "#bd3786"
             ],
             [
              0.5555555555555556,
              "#d8576b"
             ],
             [
              0.6666666666666666,
              "#ed7953"
             ],
             [
              0.7777777777777778,
              "#fb9f3a"
             ],
             [
              0.8888888888888888,
              "#fdca26"
             ],
             [
              1,
              "#f0f921"
             ]
            ],
            "type": "surface"
           }
          ],
          "table": [
           {
            "cells": {
             "fill": {
              "color": "#506784"
             },
             "line": {
              "color": "rgb(17,17,17)"
             }
            },
            "header": {
             "fill": {
              "color": "#2a3f5f"
             },
             "line": {
              "color": "rgb(17,17,17)"
             }
            },
            "type": "table"
           }
          ]
         },
         "layout": {
          "annotationdefaults": {
           "arrowcolor": "#f2f5fa",
           "arrowhead": 0,
           "arrowwidth": 1
          },
          "autotypenumbers": "strict",
          "coloraxis": {
           "colorbar": {
            "outlinewidth": 0,
            "ticks": ""
           }
          },
          "colorscale": {
           "diverging": [
            [
             0,
             "#8e0152"
            ],
            [
             0.1,
             "#c51b7d"
            ],
            [
             0.2,
             "#de77ae"
            ],
            [
             0.3,
             "#f1b6da"
            ],
            [
             0.4,
             "#fde0ef"
            ],
            [
             0.5,
             "#f7f7f7"
            ],
            [
             0.6,
             "#e6f5d0"
            ],
            [
             0.7,
             "#b8e186"
            ],
            [
             0.8,
             "#7fbc41"
            ],
            [
             0.9,
             "#4d9221"
            ],
            [
             1,
             "#276419"
            ]
           ],
           "sequential": [
            [
             0,
             "#0d0887"
            ],
            [
             0.1111111111111111,
             "#46039f"
            ],
            [
             0.2222222222222222,
             "#7201a8"
            ],
            [
             0.3333333333333333,
             "#9c179e"
            ],
            [
             0.4444444444444444,
             "#bd3786"
            ],
            [
             0.5555555555555556,
             "#d8576b"
            ],
            [
             0.6666666666666666,
             "#ed7953"
            ],
            [
             0.7777777777777778,
             "#fb9f3a"
            ],
            [
             0.8888888888888888,
             "#fdca26"
            ],
            [
             1,
             "#f0f921"
            ]
           ],
           "sequentialminus": [
            [
             0,
             "#0d0887"
            ],
            [
             0.1111111111111111,
             "#46039f"
            ],
            [
             0.2222222222222222,
             "#7201a8"
            ],
            [
             0.3333333333333333,
             "#9c179e"
            ],
            [
             0.4444444444444444,
             "#bd3786"
            ],
            [
             0.5555555555555556,
             "#d8576b"
            ],
            [
             0.6666666666666666,
             "#ed7953"
            ],
            [
             0.7777777777777778,
             "#fb9f3a"
            ],
            [
             0.8888888888888888,
             "#fdca26"
            ],
            [
             1,
             "#f0f921"
            ]
           ]
          },
          "colorway": [
           "#636efa",
           "#EF553B",
           "#00cc96",
           "#ab63fa",
           "#FFA15A",
           "#19d3f3",
           "#FF6692",
           "#B6E880",
           "#FF97FF",
           "#FECB52"
          ],
          "font": {
           "color": "#f2f5fa"
          },
          "geo": {
           "bgcolor": "rgb(17,17,17)",
           "lakecolor": "rgb(17,17,17)",
           "landcolor": "rgb(17,17,17)",
           "showlakes": true,
           "showland": true,
           "subunitcolor": "#506784"
          },
          "hoverlabel": {
           "align": "left"
          },
          "hovermode": "closest",
          "mapbox": {
           "style": "dark"
          },
          "paper_bgcolor": "rgb(17,17,17)",
          "plot_bgcolor": "rgb(17,17,17)",
          "polar": {
           "angularaxis": {
            "gridcolor": "#506784",
            "linecolor": "#506784",
            "ticks": ""
           },
           "bgcolor": "rgb(17,17,17)",
           "radialaxis": {
            "gridcolor": "#506784",
            "linecolor": "#506784",
            "ticks": ""
           }
          },
          "scene": {
           "xaxis": {
            "backgroundcolor": "rgb(17,17,17)",
            "gridcolor": "#506784",
            "gridwidth": 2,
            "linecolor": "#506784",
            "showbackground": true,
            "ticks": "",
            "zerolinecolor": "#C8D4E3"
           },
           "yaxis": {
            "backgroundcolor": "rgb(17,17,17)",
            "gridcolor": "#506784",
            "gridwidth": 2,
            "linecolor": "#506784",
            "showbackground": true,
            "ticks": "",
            "zerolinecolor": "#C8D4E3"
           },
           "zaxis": {
            "backgroundcolor": "rgb(17,17,17)",
            "gridcolor": "#506784",
            "gridwidth": 2,
            "linecolor": "#506784",
            "showbackground": true,
            "ticks": "",
            "zerolinecolor": "#C8D4E3"
           }
          },
          "shapedefaults": {
           "line": {
            "color": "#f2f5fa"
           }
          },
          "sliderdefaults": {
           "bgcolor": "#C8D4E3",
           "bordercolor": "rgb(17,17,17)",
           "borderwidth": 1,
           "tickwidth": 0
          },
          "ternary": {
           "aaxis": {
            "gridcolor": "#506784",
            "linecolor": "#506784",
            "ticks": ""
           },
           "baxis": {
            "gridcolor": "#506784",
            "linecolor": "#506784",
            "ticks": ""
           },
           "bgcolor": "rgb(17,17,17)",
           "caxis": {
            "gridcolor": "#506784",
            "linecolor": "#506784",
            "ticks": ""
           }
          },
          "title": {
           "x": 0.05
          },
          "updatemenudefaults": {
           "bgcolor": "#506784",
           "borderwidth": 0
          },
          "xaxis": {
           "automargin": true,
           "gridcolor": "#283442",
           "linecolor": "#506784",
           "ticks": "",
           "title": {
            "standoff": 15
           },
           "zerolinecolor": "#283442",
           "zerolinewidth": 2
          },
          "yaxis": {
           "automargin": true,
           "gridcolor": "#283442",
           "linecolor": "#506784",
           "ticks": "",
           "title": {
            "standoff": 15
           },
           "zerolinecolor": "#283442",
           "zerolinewidth": 2
          }
         }
        },
        "title": {
         "text": "Pit Density by Date"
        },
        "xaxis": {
         "anchor": "y",
         "domain": [
          0,
          1
         ],
         "title": {
          "text": "date"
         }
        },
        "yaxis": {
         "anchor": "x",
         "domain": [
          0,
          1
         ],
         "title": {
          "text": "value"
         }
        }
       }
      },
      "text/html": [
       "<div>                            <div id=\"1c1ed76c-c9da-4c0d-84fc-ea210baba4cb\" class=\"plotly-graph-div\" style=\"height:525px; width:100%;\"></div>            <script type=\"text/javascript\">                require([\"plotly\"], function(Plotly) {                    window.PLOTLYENV=window.PLOTLYENV || {};                                    if (document.getElementById(\"1c1ed76c-c9da-4c0d-84fc-ea210baba4cb\")) {                    Plotly.newPlot(                        \"1c1ed76c-c9da-4c0d-84fc-ea210baba4cb\",                        [{\"alignmentgroup\":\"True\",\"hovertemplate\":\"date=%{x}\\u003cbr\\u003evalue=%{y}\\u003cextra\\u003e\\u003c\\u002fextra\\u003e\",\"legendgroup\":\"\",\"marker\":{\"color\":\"#636efa\"},\"name\":\"\",\"notched\":true,\"offsetgroup\":\"\",\"orientation\":\"v\",\"showlegend\":false,\"x\":[\"2019-12-18\",\"2019-12-18\",\"2019-12-18\",\"2019-12-18\",\"2019-12-18\",\"2019-12-18\",\"2019-12-18\",\"2019-12-18\",\"2020-01-09\",\"2020-01-09\",\"2020-01-09\",\"2020-01-09\",\"2020-01-09\",\"2020-01-09\",\"2020-01-09\",\"2020-01-09\",\"2020-01-09\",\"2020-01-09\",\"2020-01-09\",\"2020-01-09\",\"2020-01-09\",\"2020-01-09\",\"2020-01-09\",\"2020-01-09\",\"2020-01-09\",\"2020-01-09\",\"2020-01-23\",\"2020-01-23\",\"2020-01-23\",\"2020-01-23\",\"2020-01-23\",\"2020-01-23\",\"2020-01-23\",\"2020-01-23\",\"2020-01-23\",\"2020-01-23\",\"2020-01-23\",\"2020-01-23\",\"2020-01-23\",\"2020-01-23\",\"2020-01-23\",\"2020-01-23\",\"2020-01-23\",\"2020-01-23\",\"2020-01-23\",\"2020-01-23\",\"2020-01-23\",\"2020-01-23\",\"2020-01-30\",\"2020-01-30\",\"2020-01-30\",\"2020-01-30\",\"2020-01-30\",\"2020-01-30\",\"2020-01-30\",\"2020-01-30\",\"2020-01-30\",\"2020-01-30\",\"2020-01-30\",\"2020-01-30\",\"2020-01-30\",\"2020-01-30\",\"2020-01-30\",\"2020-01-30\",\"2020-01-30\",\"2020-01-30\",\"2020-01-30\",\"2020-01-30\",\"2020-01-30\",\"2020-01-30\",\"2020-01-30\",\"2020-01-30\",\"2020-02-06\",\"2020-02-06\",\"2020-02-06\",\"2020-02-06\",\"2020-02-06\",\"2020-02-06\",\"2020-02-06\",\"2020-02-06\",\"2020-02-06\",\"2020-02-06\",\"2020-02-06\",\"2020-02-06\",\"2020-02-06\",\"2020-02-06\",\"2020-02-06\",\"2020-02-06\",\"2020-02-06\",\"2020-02-06\",\"2020-02-06\",\"2020-02-06\",\"2020-02-06\",\"2020-02-06\",\"2020-02-06\",\"2020-02-06\",\"2020-02-06\",\"2020-02-06\",\"2020-02-13\",\"2020-02-13\",\"2020-02-13\",\"2020-02-13\",\"2020-02-13\",\"2020-02-13\",\"2020-02-13\",\"2020-02-13\",\"2020-02-13\",\"2020-02-13\",\"2020-02-13\",\"2020-02-13\",\"2020-02-13\",\"2020-02-13\",\"2020-02-13\",\"2020-02-13\",\"2020-02-13\",\"2020-02-13\",\"2020-02-13\",\"2020-02-13\",\"2020-02-13\",\"2020-02-13\",\"2020-02-13\",\"2020-02-13\",\"2020-02-13\",\"2020-02-13\",\"2020-02-19\",\"2020-02-19\",\"2020-02-19\",\"2020-02-19\",\"2020-02-19\",\"2020-02-19\",\"2020-02-19\",\"2020-02-19\",\"2020-02-19\",\"2020-02-19\",\"2020-02-19\",\"2020-02-19\",\"2020-02-19\",\"2020-02-19\",\"2020-02-19\",\"2020-02-19\",\"2020-02-19\",\"2020-02-19\",\"2020-02-19\",\"2020-02-19\",\"2020-02-19\",\"2020-02-19\",\"2020-02-19\",\"2020-02-19\",\"2020-02-19\",\"2020-02-19\",\"2020-02-27\",\"2020-02-27\",\"2020-02-27\",\"2020-02-27\",\"2020-02-27\",\"2020-02-27\",\"2020-02-27\",\"2020-02-27\",\"2020-02-27\",\"2020-02-27\",\"2020-02-27\",\"2020-02-27\",\"2020-02-27\",\"2020-02-27\",\"2020-02-27\",\"2020-02-27\",\"2020-02-27\",\"2020-02-27\",\"2020-02-27\",\"2020-02-27\",\"2020-02-27\",\"2020-02-27\",\"2020-02-27\",\"2020-02-27\",\"2020-03-05\",\"2020-03-05\",\"2020-03-05\",\"2020-03-05\",\"2020-03-05\",\"2020-03-05\",\"2020-03-05\",\"2020-03-05\",\"2020-03-05\",\"2020-03-05\",\"2020-03-05\",\"2020-03-05\",\"2020-03-05\",\"2020-03-05\",\"2020-03-05\",\"2020-03-05\",\"2020-03-05\",\"2020-03-05\",\"2020-03-05\",\"2020-03-05\",\"2020-03-05\",\"2020-03-05\",\"2020-03-12\",\"2020-03-12\",\"2020-03-12\",\"2020-03-12\",\"2020-03-12\",\"2020-03-12\",\"2020-03-12\",\"2020-03-12\",\"2020-03-12\",\"2020-03-12\",\"2020-03-12\",\"2020-03-12\",\"2020-03-12\",\"2020-03-12\",\"2020-03-12\",\"2020-03-12\",\"2020-03-12\",\"2020-03-12\",\"2020-03-12\",\"2020-03-12\",\"2020-03-12\",\"2020-03-12\"],\"x0\":\" \",\"xaxis\":\"x\",\"y\":[\"268.0\",\"377.0\",\"228.0\",\"243.0\",\"268.0\",\"377.0\",\"228.0\",\"243.0\",\"60.0\",\"65.0\",\"116.0\",\"133.0\",\"198.0\",\"138.0\",\"163.0\",\"273.0\",\"265.0\",\"60.0\",\"65.0\",\"116.0\",\"133.0\",\"198.0\",\"138.0\",\"163.0\",\"273.0\",\"265.0\",\"121.0\",\"175.5\",\"204.66666666666666\",\"221.0\",\"254.5\",\"282.5\",\"312.0\",\"299.5\",\"315.5\",\"317.6666666666667\",\"292.0\",\"121.0\",\"175.5\",\"204.66666666666663\",\"221.0\",\"254.5\",\"282.5\",\"312.0\",\"299.5\",\"315.5\",\"317.6666666666667\",\"292.0\",\"130.0\",\"138.5\",\"133.0\",\"157.0\",\"202.5\",\"262.5\",\"222.5\",\"315.0\",\"336.0\",\"330.0\",\"302.5\",\"302.5\",\"130.0\",\"138.5\",\"133.0\",\"157.0\",\"202.5\",\"262.5\",\"222.5\",\"315.0\",\"336.0\",\"330.0\",\"302.5\",\"302.5\",\"89.0\",\"118.0\",\"175.33333333333334\",\"189.5\",\"213.0\",\"264.5\",\"293.5\",\"316.0\",\"339.5\",\"342.5\",\"322.0\",\"311.0\",\"330.0\",\"89.0\",\"118.0\",\"175.33333333333334\",\"189.5\",\"213.0\",\"264.5\",\"293.5\",\"316.0\",\"339.5\",\"342.5\",\"322.0\",\"311.0\",\"330.0\",\"146.5\",\"152.0\",\"207.0\",\"239.5\",\"253.5\",\"298.0\",\"329.0\",\"346.5\",\"346.5\",\"344.5\",\"332.5\",\"318.5\",null,\"146.5\",\"152.0\",\"207.0\",\"239.5\",\"253.5\",\"298.0\",\"329.0\",\"346.5\",\"346.5\",\"344.5\",\"332.5\",\"318.5\",null,\"114.66666666666667\",\"161.0\",\"191.5\",\"230.5\",\"257.5\",\"274.0\",\"316.0\",\"350.5\",\"362.0\",\"370.0\",\"336.0\",\"333.5\",null,\"114.66666666666669\",\"161.0\",\"191.5\",\"230.5\",\"257.5\",\"274.0\",\"316.0\",\"350.5\",\"362.0\",\"370.0\",\"336.0\",\"333.5\",null,\"158.0\",\"192.0\",\"233.5\",\"267.0\",\"284.0\",\"328.0\",\"356.5\",\"368.5\",\"373.5\",\"344.5\",\"340.0\",null,\"158.0\",\"192.0\",\"233.5\",\"267.0\",\"284.0\",\"328.0\",\"356.5\",\"368.5\",\"373.5\",\"344.5\",\"340.0\",null,\"233.5\",\"227.5\",\"274.0\",\"296.0\",\"327.0\",\"353.0\",\"369.5\",\"379.0\",\"378.5\",\"338.0\",\"343.3333333333333\",\"233.5\",\"227.5\",\"274.0\",\"296.0\",\"327.0\",\"353.0\",\"369.5\",\"379.0\",\"378.5\",\"338.0\",\"343.3333333333333\",\"204.5\",\"271.0\",\"265.0\",\"313.5\",\"312.0\",\"347.0\",\"374.5\",\"394.0\",\"381.5\",\"352.5\",\"348.0\",\"204.5\",\"271.0\",\"265.0\",\"313.5\",\"312.0\",\"347.0\",\"374.5\",\"394.0\",\"381.5\",\"352.5\",\"348.0\"],\"y0\":\" \",\"yaxis\":\"y\",\"type\":\"box\",\"hoverinfo\":\"y+name\"}],                        {\"template\":{\"data\":{\"barpolar\":[{\"marker\":{\"line\":{\"color\":\"rgb(17,17,17)\",\"width\":0.5},\"pattern\":{\"fillmode\":\"overlay\",\"size\":10,\"solidity\":0.2}},\"type\":\"barpolar\"}],\"bar\":[{\"error_x\":{\"color\":\"#f2f5fa\"},\"error_y\":{\"color\":\"#f2f5fa\"},\"marker\":{\"line\":{\"color\":\"rgb(17,17,17)\",\"width\":0.5},\"pattern\":{\"fillmode\":\"overlay\",\"size\":10,\"solidity\":0.2}},\"type\":\"bar\"}],\"carpet\":[{\"aaxis\":{\"endlinecolor\":\"#A2B1C6\",\"gridcolor\":\"#506784\",\"linecolor\":\"#506784\",\"minorgridcolor\":\"#506784\",\"startlinecolor\":\"#A2B1C6\"},\"baxis\":{\"endlinecolor\":\"#A2B1C6\",\"gridcolor\":\"#506784\",\"linecolor\":\"#506784\",\"minorgridcolor\":\"#506784\",\"startlinecolor\":\"#A2B1C6\"},\"type\":\"carpet\"}],\"choropleth\":[{\"colorbar\":{\"outlinewidth\":0,\"ticks\":\"\"},\"type\":\"choropleth\"}],\"contourcarpet\":[{\"colorbar\":{\"outlinewidth\":0,\"ticks\":\"\"},\"type\":\"contourcarpet\"}],\"contour\":[{\"colorbar\":{\"outlinewidth\":0,\"ticks\":\"\"},\"colorscale\":[[0.0,\"#0d0887\"],[0.1111111111111111,\"#46039f\"],[0.2222222222222222,\"#7201a8\"],[0.3333333333333333,\"#9c179e\"],[0.4444444444444444,\"#bd3786\"],[0.5555555555555556,\"#d8576b\"],[0.6666666666666666,\"#ed7953\"],[0.7777777777777778,\"#fb9f3a\"],[0.8888888888888888,\"#fdca26\"],[1.0,\"#f0f921\"]],\"type\":\"contour\"}],\"heatmapgl\":[{\"colorbar\":{\"outlinewidth\":0,\"ticks\":\"\"},\"colorscale\":[[0.0,\"#0d0887\"],[0.1111111111111111,\"#46039f\"],[0.2222222222222222,\"#7201a8\"],[0.3333333333333333,\"#9c179e\"],[0.4444444444444444,\"#bd3786\"],[0.5555555555555556,\"#d8576b\"],[0.6666666666666666,\"#ed7953\"],[0.7777777777777778,\"#fb9f3a\"],[0.8888888888888888,\"#fdca26\"],[1.0,\"#f0f921\"]],\"type\":\"heatmapgl\"}],\"heatmap\":[{\"colorbar\":{\"outlinewidth\":0,\"ticks\":\"\"},\"colorscale\":[[0.0,\"#0d0887\"],[0.1111111111111111,\"#46039f\"],[0.2222222222222222,\"#7201a8\"],[0.3333333333333333,\"#9c179e\"],[0.4444444444444444,\"#bd3786\"],[0.5555555555555556,\"#d8576b\"],[0.6666666666666666,\"#ed7953\"],[0.7777777777777778,\"#fb9f3a\"],[0.8888888888888888,\"#fdca26\"],[1.0,\"#f0f921\"]],\"type\":\"heatmap\"}],\"histogram2dcontour\":[{\"colorbar\":{\"outlinewidth\":0,\"ticks\":\"\"},\"colorscale\":[[0.0,\"#0d0887\"],[0.1111111111111111,\"#46039f\"],[0.2222222222222222,\"#7201a8\"],[0.3333333333333333,\"#9c179e\"],[0.4444444444444444,\"#bd3786\"],[0.5555555555555556,\"#d8576b\"],[0.6666666666666666,\"#ed7953\"],[0.7777777777777778,\"#fb9f3a\"],[0.8888888888888888,\"#fdca26\"],[1.0,\"#f0f921\"]],\"type\":\"histogram2dcontour\"}],\"histogram2d\":[{\"colorbar\":{\"outlinewidth\":0,\"ticks\":\"\"},\"colorscale\":[[0.0,\"#0d0887\"],[0.1111111111111111,\"#46039f\"],[0.2222222222222222,\"#7201a8\"],[0.3333333333333333,\"#9c179e\"],[0.4444444444444444,\"#bd3786\"],[0.5555555555555556,\"#d8576b\"],[0.6666666666666666,\"#ed7953\"],[0.7777777777777778,\"#fb9f3a\"],[0.8888888888888888,\"#fdca26\"],[1.0,\"#f0f921\"]],\"type\":\"histogram2d\"}],\"histogram\":[{\"marker\":{\"pattern\":{\"fillmode\":\"overlay\",\"size\":10,\"solidity\":0.2}},\"type\":\"histogram\"}],\"mesh3d\":[{\"colorbar\":{\"outlinewidth\":0,\"ticks\":\"\"},\"type\":\"mesh3d\"}],\"parcoords\":[{\"line\":{\"colorbar\":{\"outlinewidth\":0,\"ticks\":\"\"}},\"type\":\"parcoords\"}],\"pie\":[{\"automargin\":true,\"type\":\"pie\"}],\"scatter3d\":[{\"line\":{\"colorbar\":{\"outlinewidth\":0,\"ticks\":\"\"}},\"marker\":{\"colorbar\":{\"outlinewidth\":0,\"ticks\":\"\"}},\"type\":\"scatter3d\"}],\"scattercarpet\":[{\"marker\":{\"colorbar\":{\"outlinewidth\":0,\"ticks\":\"\"}},\"type\":\"scattercarpet\"}],\"scattergeo\":[{\"marker\":{\"colorbar\":{\"outlinewidth\":0,\"ticks\":\"\"}},\"type\":\"scattergeo\"}],\"scattergl\":[{\"marker\":{\"line\":{\"color\":\"#283442\"}},\"type\":\"scattergl\"}],\"scattermapbox\":[{\"marker\":{\"colorbar\":{\"outlinewidth\":0,\"ticks\":\"\"}},\"type\":\"scattermapbox\"}],\"scatterpolargl\":[{\"marker\":{\"colorbar\":{\"outlinewidth\":0,\"ticks\":\"\"}},\"type\":\"scatterpolargl\"}],\"scatterpolar\":[{\"marker\":{\"colorbar\":{\"outlinewidth\":0,\"ticks\":\"\"}},\"type\":\"scatterpolar\"}],\"scatter\":[{\"marker\":{\"line\":{\"color\":\"#283442\"}},\"type\":\"scatter\"}],\"scatterternary\":[{\"marker\":{\"colorbar\":{\"outlinewidth\":0,\"ticks\":\"\"}},\"type\":\"scatterternary\"}],\"surface\":[{\"colorbar\":{\"outlinewidth\":0,\"ticks\":\"\"},\"colorscale\":[[0.0,\"#0d0887\"],[0.1111111111111111,\"#46039f\"],[0.2222222222222222,\"#7201a8\"],[0.3333333333333333,\"#9c179e\"],[0.4444444444444444,\"#bd3786\"],[0.5555555555555556,\"#d8576b\"],[0.6666666666666666,\"#ed7953\"],[0.7777777777777778,\"#fb9f3a\"],[0.8888888888888888,\"#fdca26\"],[1.0,\"#f0f921\"]],\"type\":\"surface\"}],\"table\":[{\"cells\":{\"fill\":{\"color\":\"#506784\"},\"line\":{\"color\":\"rgb(17,17,17)\"}},\"header\":{\"fill\":{\"color\":\"#2a3f5f\"},\"line\":{\"color\":\"rgb(17,17,17)\"}},\"type\":\"table\"}]},\"layout\":{\"annotationdefaults\":{\"arrowcolor\":\"#f2f5fa\",\"arrowhead\":0,\"arrowwidth\":1},\"autotypenumbers\":\"strict\",\"coloraxis\":{\"colorbar\":{\"outlinewidth\":0,\"ticks\":\"\"}},\"colorscale\":{\"diverging\":[[0,\"#8e0152\"],[0.1,\"#c51b7d\"],[0.2,\"#de77ae\"],[0.3,\"#f1b6da\"],[0.4,\"#fde0ef\"],[0.5,\"#f7f7f7\"],[0.6,\"#e6f5d0\"],[0.7,\"#b8e186\"],[0.8,\"#7fbc41\"],[0.9,\"#4d9221\"],[1,\"#276419\"]],\"sequential\":[[0.0,\"#0d0887\"],[0.1111111111111111,\"#46039f\"],[0.2222222222222222,\"#7201a8\"],[0.3333333333333333,\"#9c179e\"],[0.4444444444444444,\"#bd3786\"],[0.5555555555555556,\"#d8576b\"],[0.6666666666666666,\"#ed7953\"],[0.7777777777777778,\"#fb9f3a\"],[0.8888888888888888,\"#fdca26\"],[1.0,\"#f0f921\"]],\"sequentialminus\":[[0.0,\"#0d0887\"],[0.1111111111111111,\"#46039f\"],[0.2222222222222222,\"#7201a8\"],[0.3333333333333333,\"#9c179e\"],[0.4444444444444444,\"#bd3786\"],[0.5555555555555556,\"#d8576b\"],[0.6666666666666666,\"#ed7953\"],[0.7777777777777778,\"#fb9f3a\"],[0.8888888888888888,\"#fdca26\"],[1.0,\"#f0f921\"]]},\"colorway\":[\"#636efa\",\"#EF553B\",\"#00cc96\",\"#ab63fa\",\"#FFA15A\",\"#19d3f3\",\"#FF6692\",\"#B6E880\",\"#FF97FF\",\"#FECB52\"],\"font\":{\"color\":\"#f2f5fa\"},\"geo\":{\"bgcolor\":\"rgb(17,17,17)\",\"lakecolor\":\"rgb(17,17,17)\",\"landcolor\":\"rgb(17,17,17)\",\"showlakes\":true,\"showland\":true,\"subunitcolor\":\"#506784\"},\"hoverlabel\":{\"align\":\"left\"},\"hovermode\":\"closest\",\"mapbox\":{\"style\":\"dark\"},\"paper_bgcolor\":\"rgb(17,17,17)\",\"plot_bgcolor\":\"rgb(17,17,17)\",\"polar\":{\"angularaxis\":{\"gridcolor\":\"#506784\",\"linecolor\":\"#506784\",\"ticks\":\"\"},\"bgcolor\":\"rgb(17,17,17)\",\"radialaxis\":{\"gridcolor\":\"#506784\",\"linecolor\":\"#506784\",\"ticks\":\"\"}},\"scene\":{\"xaxis\":{\"backgroundcolor\":\"rgb(17,17,17)\",\"gridcolor\":\"#506784\",\"gridwidth\":2,\"linecolor\":\"#506784\",\"showbackground\":true,\"ticks\":\"\",\"zerolinecolor\":\"#C8D4E3\"},\"yaxis\":{\"backgroundcolor\":\"rgb(17,17,17)\",\"gridcolor\":\"#506784\",\"gridwidth\":2,\"linecolor\":\"#506784\",\"showbackground\":true,\"ticks\":\"\",\"zerolinecolor\":\"#C8D4E3\"},\"zaxis\":{\"backgroundcolor\":\"rgb(17,17,17)\",\"gridcolor\":\"#506784\",\"gridwidth\":2,\"linecolor\":\"#506784\",\"showbackground\":true,\"ticks\":\"\",\"zerolinecolor\":\"#C8D4E3\"}},\"shapedefaults\":{\"line\":{\"color\":\"#f2f5fa\"}},\"sliderdefaults\":{\"bgcolor\":\"#C8D4E3\",\"bordercolor\":\"rgb(17,17,17)\",\"borderwidth\":1,\"tickwidth\":0},\"ternary\":{\"aaxis\":{\"gridcolor\":\"#506784\",\"linecolor\":\"#506784\",\"ticks\":\"\"},\"baxis\":{\"gridcolor\":\"#506784\",\"linecolor\":\"#506784\",\"ticks\":\"\"},\"bgcolor\":\"rgb(17,17,17)\",\"caxis\":{\"gridcolor\":\"#506784\",\"linecolor\":\"#506784\",\"ticks\":\"\"}},\"title\":{\"x\":0.05},\"updatemenudefaults\":{\"bgcolor\":\"#506784\",\"borderwidth\":0},\"xaxis\":{\"automargin\":true,\"gridcolor\":\"#283442\",\"linecolor\":\"#506784\",\"ticks\":\"\",\"title\":{\"standoff\":15},\"zerolinecolor\":\"#283442\",\"zerolinewidth\":2},\"yaxis\":{\"automargin\":true,\"gridcolor\":\"#283442\",\"linecolor\":\"#506784\",\"ticks\":\"\",\"title\":{\"standoff\":15},\"zerolinecolor\":\"#283442\",\"zerolinewidth\":2}}},\"xaxis\":{\"anchor\":\"y\",\"domain\":[0.0,1.0],\"title\":{\"text\":\"date\"}},\"yaxis\":{\"anchor\":\"x\",\"domain\":[0.0,1.0],\"title\":{\"text\":\"value\"}},\"legend\":{\"tracegroupgap\":0},\"title\":{\"text\":\"Pit Density by Date\"},\"boxmode\":\"group\"},                        {\"responsive\": true}                    ).then(function(){\n",
       "                            \n",
       "var gd = document.getElementById('1c1ed76c-c9da-4c0d-84fc-ea210baba4cb');\n",
       "var x = new MutationObserver(function (mutations, observer) {{\n",
       "        var display = window.getComputedStyle(gd).display;\n",
       "        if (!display || display === 'none') {{\n",
       "            console.log([gd, 'removed!']);\n",
       "            Plotly.purge(gd);\n",
       "            observer.disconnect();\n",
       "        }}\n",
       "}});\n",
       "\n",
       "// Listen for the removal of the full notebook cells\n",
       "var notebookContainer = gd.closest('#notebook-container');\n",
       "if (notebookContainer) {{\n",
       "    x.observe(notebookContainer, {childList: true});\n",
       "}}\n",
       "\n",
       "// Listen for the clearing of the current output cell\n",
       "var outputEl = gd.closest('.output');\n",
       "if (outputEl) {{\n",
       "    x.observe(outputEl, {childList: true});\n",
       "}}\n",
       "\n",
       "                        })                };                });            </script>        </div>"
      ]
     },
     "metadata": {},
     "output_type": "display_data"
    }
   ],
   "source": [
    "# Show more detail by using a box plot\n",
    "fig = px.box(df, x='date', y='value', notched=True, title='Pit Density by Date')\n",
    "fig.update_traces(hoverinfo='y+name')\n",
    "fig.update_layout(template='plotly_dark')\n",
    "\n",
    "# alternative matplotlib code\n",
    "# df.boxplot(by='date', column='value')\n",
    "# plt.title('Density Distribution for Banner by Date')\n",
    "# plt.suptitle('')  # Suppress the automatic title\n",
    "# plt.xlabel('Date')\n",
    "# plt.ylabel('Value')\n",
    "# plt.show()"
   ]
  },
  {
   "cell_type": "code",
   "execution_count": null,
   "metadata": {},
   "outputs": [],
   "source": []
  }
 ],
 "metadata": {
  "kernelspec": {
   "display_name": "Python 3 (ipykernel)",
   "language": "python",
   "name": "python3"
  },
  "language_info": {
   "codemirror_mode": {
    "name": "ipython",
    "version": 3
   },
   "file_extension": ".py",
   "mimetype": "text/x-python",
   "name": "python",
   "nbconvert_exporter": "python",
   "pygments_lexer": "ipython3",
   "version": "3.9.18"
  }
 },
 "nbformat": 4,
 "nbformat_minor": 4
}
