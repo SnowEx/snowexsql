{
 "cells": [
  {
   "cell_type": "markdown",
   "metadata": {},
   "source": [
    "# Compare Snow Depths with Interferogram\n",
    "\n",
    "**Goal**: Compare the insar phase to snowdepths\n",
    "\n",
    "**Approach**: \n",
    "1. Define an area to study the relationship \n",
    "2. Grab the snow depths from the magnaprobe in the area\n",
    "3. Grab the real and imaginary pixels nearest the magna probe locations \n",
    "4. Plot it\n",
    "\n",
    "\n",
    "### Step 1:  Define an Area to Compare Depths to Interferogram"
   ]
  },
  {
   "cell_type": "code",
   "execution_count": 1,
   "metadata": {},
   "outputs": [
    {
     "name": "stderr",
     "output_type": "stream",
     "text": [
      "/home/micah/projects/venv/snowexenv/lib/python3.8/site-packages/sqlalchemy/sql/functions.py:61: SAWarning: The GenericFunction 'st_pixelaspoint' is already registered and is going to be overridden.\n",
      "  util.warn(\n",
      "/home/micah/projects/venv/snowexenv/lib/python3.8/site-packages/sqlalchemy/sql/functions.py:61: SAWarning: The GenericFunction 'st_pixelaspoints' is already registered and is going to be overridden.\n",
      "  util.warn(\n",
      "/home/micah/projects/venv/snowexenv/lib/python3.8/site-packages/sqlalchemy/sql/functions.py:61: SAWarning: The GenericFunction 'st_rastertoworldcoord' is already registered and is going to be overridden.\n",
      "  util.warn(\n",
      "/home/micah/projects/venv/snowexenv/lib/python3.8/site-packages/sqlalchemy/sql/functions.py:61: SAWarning: The GenericFunction 'st_clip' is already registered and is going to be overridden.\n",
      "  util.warn(\n",
      "/home/micah/projects/venv/snowexenv/lib/python3.8/site-packages/sqlalchemy/sql/functions.py:61: SAWarning: The GenericFunction 'st_count' is already registered and is going to be overridden.\n",
      "  util.warn(\n"
     ]
    }
   ],
   "source": [
    "from snowexsql.data import PointData, ImageData, SiteData \n",
    "from snowexsql.db import get_db\n",
    "from snowexsql.conversions import points_to_geopandas, query_to_geopandas, raster_to_rasterio\n",
    "\n",
    "from snowexsql.functions import ST_PixelAsPoint\n",
    "import geoalchemy2.functions as gfunc\n",
    "from geoalchemy2.types import Raster\n",
    "from geoalchemy2.shape import to_shape, from_shape\n",
    "from datetime import date\n",
    "from sqlalchemy.sql import func\n",
    "import geopandas as gpd\n",
    "import numpy as np \n",
    "from rasterio.plot import show\n",
    "import matplotlib.pyplot as plt \n",
    "\n",
    "# PIT Site Identifier\n",
    "site_id = '5S31'\n",
    "\n",
    "# Distance around the pit to collect data in meters\n",
    "buffer_dist = 50\n",
    "\n",
    "# Connect to the database\n",
    "db_name = 'db.snowexdata.org/snowex'\n",
    "\n",
    "engine, session = get_db(db_name, credentials='./credentials.json')\n",
    "\n",
    "# Grab our pit location by provided site id from the site details table\n",
    "qry = session.query(SiteData.geom).filter(SiteData.site_id == site_id)\n",
    "sites = qry.all()\n",
    "\n",
    "# There can be different dates at a single site, so we only grab one to retrieve the geometry object\n",
    "point = sites[0][0]\n",
    "\n",
    "# Create a polygon buffered by our distance centered on the pit\n",
    "qry = session.query(gfunc.ST_Buffer(point, buffer_dist))\n",
    "buffered_pit = qry.all()[0][0]"
   ]
  },
  {
   "cell_type": "markdown",
   "metadata": {},
   "source": [
    "### Step 2: Grab all the Snow Depths in the Area"
   ]
  },
  {
   "cell_type": "code",
   "execution_count": 2,
   "metadata": {},
   "outputs": [
    {
     "name": "stdout",
     "output_type": "stream",
     "text": [
      "114 Snow Depths found with 50m of 5S31\n"
     ]
    }
   ],
   "source": [
    "# Grab all the snow depths measured by a probe in the buffer\n",
    "qry = session.query(PointData).filter(gfunc.ST_Within(PointData.geom, buffered_pit))\n",
    "points = qry.filter(PointData.instrument.in_(['mesa','magnaprobe','pit ruler'])).all()\n",
    "\n",
    "# Convert the records received to geopandas\n",
    "df_points = points_to_geopandas(points)\n",
    "print('{} Snow Depths found with {}m of {}'.format(len(df_points.index), buffer_dist, site_id))"
   ]
  },
  {
   "cell_type": "markdown",
   "metadata": {},
   "source": [
    "### Step 3: Grab near polygons of pixels in the area"
   ]
  },
  {
   "cell_type": "code",
   "execution_count": 5,
   "metadata": {},
   "outputs": [],
   "source": [
    "# Loop over all the points\n",
    "session.rollback()\n",
    "\n",
    "def custom_query(session, poi, name, polarization, dem):\n",
    "    '''\n",
    "    Form a query to grab a value of a raster at a given point with \n",
    "    filtering on name of the data, uavsar polarization, and the dem used for \n",
    "    processing.\n",
    "    \n",
    "    Return the records (which should be only one)\n",
    "    '''\n",
    "    qry = session.query(ImageData.id, \n",
    "                  ImageData.type,\n",
    "                  func.ST_NearestValue(ImageData.raster, poi))\n",
    "    qry = qry.filter(ImageData.date == date(2020, 2, 12))\n",
    "    qry = qry.filter(ImageData.type.contains(name))\n",
    "    qry = qry.filter(ImageData.description.contains(polarization))\n",
    "    qry = qry.filter(ImageData.description.contains(dem))\n",
    "    qry = qry.filter(ImageData.site_name == 'Grand Mesa')\n",
    "    qry = qry.filter(gfunc.ST_Within(poi, func.ST_Envelope(ImageData.raster)))\n",
    "    return qry.all()"
   ]
  },
  {
   "cell_type": "code",
   "execution_count": 6,
   "metadata": {},
   "outputs": [],
   "source": [
    "df = gpd.GeoDataFrame(columns=['geom','depth','img','real','phase'])\n",
    "\n",
    "# loop over all our snow depths\n",
    "for i, row in df_points.iterrows():\n",
    "    # Form a EWKT geom object to find values\n",
    "    poi = from_shape(row['geom'], srid=26912).ST_AsEWKT()\n",
    "    \n",
    "    # Grab the nearest pixel value to our snow depth\n",
    "    img = custom_query(session, poi, 'interferogram imaginary', 'VV','DTM')\n",
    "    real = custom_query(session, poi, 'interferogram real', 'VV','DTM')\n",
    "    \n",
    "    # Store for later \n",
    "    results = {'img':img[-1][-1],\n",
    "               'real':real[-1][-1],\n",
    "               'geom': row['geom'],\n",
    "               'depth':row['value']}\n",
    "\n",
    "    # Add it to our df\n",
    "    df = df.append(results, ignore_index=True)\n",
    "\n",
    "    \n",
    "# Close the session to avoid hanging transactions\n",
    "session.close()"
   ]
  },
  {
   "cell_type": "code",
   "execution_count": 7,
   "metadata": {},
   "outputs": [],
   "source": [
    "# Calculate the phase \n",
    "df['phase'] = np.arctan(df['img'] / df['real'])"
   ]
  },
  {
   "cell_type": "code",
   "execution_count": 8,
   "metadata": {
    "tags": [
     "nbsphinx-thumbnail",
     "nbsphinx-gallery"
    ]
   },
   "outputs": [
    {
     "data": {
      "image/png": "[encoded data removed]",
      "text/plain": [
       "<Figure size 576x576 with 1 Axes>"
      ]
     },
     "metadata": {
      "needs_background": "light"
     },
     "output_type": "display_data"
    }
   ],
   "source": [
    "fig, ax = plt.subplots(1,1,figsize=(8,8))\n",
    "\n",
    "# Plot the comparison\n",
    "ax.plot(df['phase'], df['depth'], '.')\n",
    "\n",
    "plt.show()"
   ]
  }
 ],
 "metadata": {
  "kernelspec": {
   "display_name": "Python 3 (ipykernel)",
   "language": "python",
   "name": "python3"
  },
  "language_info": {
   "codemirror_mode": {
    "name": "ipython",
    "version": 3
   },
   "file_extension": ".py",
   "mimetype": "text/x-python",
   "name": "python",
   "nbconvert_exporter": "python",
   "pygments_lexer": "ipython3",
   "version": "3.8.10"
  }
 },
 "nbformat": 4,
 "nbformat_minor": 4
}
