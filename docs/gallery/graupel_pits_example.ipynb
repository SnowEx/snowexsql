{
 "cells": [
  {
   "cell_type": "markdown",
   "metadata": {},
   "source": [
    "## Finding Pits with Graupel\n",
    "\n",
    "**Goal**: Find all pits with graupel mentioned in the comments by the observers.\n",
    "\n",
    "**Approach**: \n",
    "\n",
    "1. Use the `LayerData` class to represent the entire layers table\n",
    "2. Form the query using Objet Relational Mapping (ORM)\n",
    "3. Fill out all variables in the query using compile. \n",
    "4. Form a geodataframe using the engine and complete SQL command\n",
    "5. Output to a file.\n",
    "\n"
   ]
  },
  {
   "cell_type": "code",
   "execution_count": 4,
   "metadata": {},
   "outputs": [],
   "source": [
    "from snowxsql.data import LayerData\n",
    "from snowxsql.db import get_db\n",
    "import geopandas as gpd\n",
    "from sqlalchemy.dialects import postgresql\n",
    "\n",
    "# Connect to the database we made.\n",
    "db_name = 'postgresql+psycopg2:///snowex'\n",
    "engine, metadata, session = get_db(db_name)\n",
    "\n",
    "# Query the database looking at LayerData, filter on comments containing graupel (case insensitive)\n",
    "q = session.query(LayerData).filter(LayerData.comments.contains('graupel'))\n",
    "\n",
    "# Fill out the variables in the query\n",
    "sql = q.statement.compile(dialect=postgresql.dialect())\n",
    "\n",
    "# Get dataframe from geopandas using the query and engine\n",
    "df = gpd.GeoDataFrame.from_postgis(sql, engine)\n",
    "\n",
    "# Close the geoalchemy2 session\n",
    "session.close()\n",
    "\n",
    "# Write data to a shapefile\n",
    "df['geom'].to_file('graupel_locations.shp')\n"
   ]
  },
  {
   "cell_type": "code",
   "execution_count": 5,
   "metadata": {
    "tags": [
     "nbsphinx-thumbnail"
    ]
   },
   "outputs": [
    {
     "data": {
      "text/plain": [
       "<matplotlib.axes._subplots.AxesSubplot at 0x7f27789b0cd0>"
      ]
     },
     "execution_count": 5,
     "metadata": {},
     "output_type": "execute_result"
    },
    {
     "data": {
      "image/png": "[encoded data removed]",
      "text/plain": [
       "<Figure size 432x288 with 1 Axes>"
      ]
     },
     "metadata": {
      "needs_background": "light"
     },
     "output_type": "display_data"
    }
   ],
   "source": [
    "df.plot()"
   ]
  },
  {
   "cell_type": "code",
   "execution_count": null,
   "metadata": {},
   "outputs": [],
   "source": []
  }
 ],
 "metadata": {
  "kernelspec": {
   "display_name": "Python 3",
   "language": "python",
   "name": "python3"
  },
  "language_info": {
   "codemirror_mode": {
    "name": "ipython",
    "version": 3
   },
   "file_extension": ".py",
   "mimetype": "text/x-python",
   "name": "python",
   "nbconvert_exporter": "python",
   "pygments_lexer": "ipython3",
   "version": "3.7.5"
  }
 },
 "nbformat": 4,
 "nbformat_minor": 4
}
