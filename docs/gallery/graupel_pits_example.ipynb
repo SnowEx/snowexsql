{
 "cells": [
  {
   "cell_type": "markdown",
   "metadata": {},
   "source": [
    "## Finding Pits with Graupel\n",
    "\n",
    "**Goal**: Find all pits with graupel mentioned in the comments by the observers.\n",
    "\n",
    "**Approach**: \n",
    "\n",
    "1. Use the `LayerData` class to represent the entire layers table\n",
    "2. Form the query using Objet Relational Mapping (ORM)\n",
    "3. Use the conversion function from snowxsql to get a geodataframe\n",
    "5. Plot it!"
   ]
  },
  {
   "cell_type": "code",
   "execution_count": 11,
   "metadata": {},
   "outputs": [],
   "source": [
    "from snowxsql.data import LayerData\n",
    "from snowxsql.db import get_db\n",
    "from snowxsql.conversions import query_to_geopandas\n",
    "import geopandas as gpd\n",
    "from sqlalchemy.dialects import postgresql\n",
    "import matplotlib.pyplot as plt \n",
    "\n",
    "# Connect to the database we made.\n",
    "db_name = 'postgresql+psycopg2:///snowex'\n",
    "engine, metadata, session = get_db(db_name)\n",
    "\n",
    "# Query the database looking at LayerData, filter on comments containing graupel (case insensitive)\n",
    "q = session.query(LayerData).filter(LayerData.comments.contains('graupel'))\n",
    "\n",
    "# Convert the \n",
    "df = query_to_geopandas(q, engine)\n",
    "\n",
    "# Close the geoalchemy2 session\n",
    "session.close()\n",
    "\n",
    "# Write data to a shapefile\n",
    "# df['geom'].to_file('graupel_locations.shp')\n"
   ]
  },
  {
   "cell_type": "code",
   "execution_count": 15,
   "metadata": {
    "tags": [
     "nbsphinx-thumbnail"
    ]
   },
   "outputs": [
    {
     "data": {
      "image/png": "[encoded data removed]",
      "text/plain": [
       "<Figure size 432x288 with 1 Axes>"
      ]
     },
     "metadata": {
      "needs_background": "light"
     },
     "output_type": "display_data"
    }
   ],
   "source": [
    "ax = df.plot(color='m', marker='v')\n",
    "ax.set_xlabel('Easting [m]')\n",
    "ax.set_ylabel('Northing [m]')\n",
    "ax.ticklabel_format(style='plain', useOffset=False)\n",
    "ax.set_title('Grand Mesa Pits w/ A Graupel Layer')\n",
    "plt.tight_layout()"
   ]
  },
  {
   "cell_type": "code",
   "execution_count": null,
   "metadata": {},
   "outputs": [],
   "source": []
  }
 ],
 "metadata": {
  "kernelspec": {
   "display_name": "Python 3",
   "language": "python",
   "name": "python3"
  },
  "language_info": {
   "codemirror_mode": {
    "name": "ipython",
    "version": 3
   },
   "file_extension": ".py",
   "mimetype": "text/x-python",
   "name": "python",
   "nbconvert_exporter": "python",
   "pygments_lexer": "ipython3",
   "version": "3.7.5"
  }
 },
 "nbformat": 4,
 "nbformat_minor": 4
}
