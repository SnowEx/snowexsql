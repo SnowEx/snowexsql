{
 "cells": [
  {
   "cell_type": "markdown",
   "metadata": {},
   "source": [
    "## Finding Pits with Graupel\n",
    "\n",
    "**Goal**: Find all pits with graupel mentioned in the comments by the observers.\n",
    "\n",
    "**Approach**: \n",
    "\n",
    "1. Use the `LayerData` class to represent the entire layers table\n",
    "2. Form the query using Objet Relational Mapping (ORM)\n",
    "3. Use the conversion function from snowxsql to get a geodataframe\n",
    "5. Plot it!"
   ]
  },
  {
   "cell_type": "code",
   "execution_count": 1,
   "metadata": {},
   "outputs": [
    {
     "name": "stdout",
     "output_type": "stream",
     "text": [
      "Sites with Graupel: 5S21, County Line Tree, 4C30, 1N7, 8S41, 2C12, 9C28, 7S23, 6C34, 3S47, Skyway Open, 1N3, 1S12, 2S11, 1N5, TLSFL2A, FL1B, 2S6, 6S32, FL2A, 1C7, 8N38\n"
     ]
    }
   ],
   "source": [
    "from snowxsql.data import LayerData\n",
    "from snowxsql.db import get_db\n",
    "from snowxsql.conversions import query_to_geopandas\n",
    "import geopandas as gpd\n",
    "from sqlalchemy.dialects import postgresql\n",
    "import matplotlib.pyplot as plt \n",
    "\n",
    "# Connect to the database we made.\n",
    "db_name = 'postgresql+psycopg2:///snowex'\n",
    "engine, metadata, session = get_db(db_name)\n",
    "\n",
    "# Query the database looking at Pit profiles, \n",
    "q = session.query(LayerData).filter(LayerData.type == 'hand_hardness')\n",
    "\n",
    "# filter on comments containing graupel (case insensitive)\n",
    "q = q.filter(LayerData.comments.contains('graupel'))\n",
    "\n",
    "# Convert the \n",
    "df = query_to_geopandas(q, engine)\n",
    "\n",
    "print('Sites with Graupel: {}'.format(', '.join(df['site_id'])))\n",
    "# Close the geoalchemy2 session\n",
    "session.close()\n",
    "\n",
    "# Write data to a shapefile\n",
    "# df['geom'].to_file('graupel_locations.shp')\n"
   ]
  },
  {
   "cell_type": "code",
   "execution_count": 2,
   "metadata": {
    "tags": [
     "nbsphinx-thumbnail"
    ]
   },
   "outputs": [
    {
     "data": {
      "image/png": "[encoded data removed]",
      "text/plain": [
       "<Figure size 432x288 with 1 Axes>"
      ]
     },
     "metadata": {
      "needs_background": "light"
     },
     "output_type": "display_data"
    }
   ],
   "source": [
    "ax = df.plot(color='m', marker='v')\n",
    "ax.set_xlabel('Easting [m]')\n",
    "ax.set_ylabel('Northing [m]')\n",
    "ax.ticklabel_format(style='plain', useOffset=False)\n",
    "ax.set_title('Grand Mesa Pits w/ A Graupel Layer')\n",
    "plt.tight_layout()"
   ]
  },
  {
   "cell_type": "code",
   "execution_count": null,
   "metadata": {},
   "outputs": [],
   "source": []
  }
 ],
 "metadata": {
  "kernelspec": {
   "display_name": "Python 3",
   "language": "python",
   "name": "python3"
  },
  "language_info": {
   "codemirror_mode": {
    "name": "ipython",
    "version": 3
   },
   "file_extension": ".py",
   "mimetype": "text/x-python",
   "name": "python",
   "nbconvert_exporter": "python",
   "pygments_lexer": "ipython3",
   "version": "3.7.5"
  }
 },
 "nbformat": 4,
 "nbformat_minor": 4
}
