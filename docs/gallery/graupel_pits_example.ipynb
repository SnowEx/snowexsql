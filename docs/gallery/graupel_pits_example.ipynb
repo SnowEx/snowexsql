{
 "cells": [
  {
   "cell_type": "markdown",
   "metadata": {},
   "source": [
    "# Retrieve Sites that Surveyors Found Graupel\n",
    "\n",
    "**Goal**: Plot all the pit locations and identify which pits had graupel and which didn't\n",
    "\n",
    "**Approach**: \n",
    "\n",
    "1. Find all the pits with graupel in the comments.\n",
    "2. Find all pits without graupel mentioned in the comments\n",
    "3. Plot them!"
   ]
  },
  {
   "cell_type": "markdown",
   "metadata": {},
   "source": [
    "## Process\n",
    "\n",
    "### Step 1. Use the `LayerData` class to find hand hardness profiles that mention graupel"
   ]
  },
  {
   "cell_type": "code",
   "execution_count": 6,
   "metadata": {},
   "outputs": [
    {
     "name": "stdout",
     "output_type": "stream",
     "text": [
      "Sites with Graupel: 8N38, 2S35\n"
     ]
    }
   ],
   "source": [
    "from snowexsql.data import LayerData, SiteData\n",
    "from snowexsql.db import get_db\n",
    "from snowexsql.conversions import query_to_geopandas\n",
    "import geopandas as gpd\n",
    "import matplotlib.pyplot as plt \n",
    "\n",
    "# Connect to the database\n",
    "db_name = 'db.snowexdata.org/snowex'\n",
    "engine, session = get_db(db_name, credentials='./credentials.json')\n",
    "\n",
    "# Build a query looking at hand hardness profiles, \n",
    "q_base = session.query(LayerData).filter(LayerData.type == 'hand_hardness')\n",
    "\n",
    "# add on to the query by filtering on comments containing graupel (case insensitive)\n",
    "q = q_base.filter(LayerData.comments.contains('graupel'))\n",
    "\n",
    "# Send query and convert records to a dataframe with the results\n",
    "df_graupel = query_to_geopandas(q, engine)\n",
    "\n",
    "print('Sites with Graupel: {}'.format(', '.join(df_graupel['site_id'])))"
   ]
  },
  {
   "cell_type": "markdown",
   "metadata": {},
   "source": [
    "### Step 2. Use the same query but request the opposite to get pits without graupel"
   ]
  },
  {
   "cell_type": "code",
   "execution_count": 7,
   "metadata": {},
   "outputs": [],
   "source": [
    "# Use the exact same query except use ~ to ask for the opposite (pits w/o graupel)\n",
    "q = q_base.filter(~LayerData.comments.contains('graupel'))\n",
    "\n",
    "# There are multiple layers for a given site at different depths and dates. So insure we don't grab a site that on a given date had graupel\n",
    "q = q.filter(~LayerData.date.in_(df_graupel['date']), ~LayerData.site_id.in_(df_graupel['site_id']))\n",
    "\n",
    "# Send query and convert records to a dataframe with the results\n",
    "df = query_to_geopandas(q, engine)"
   ]
  },
  {
   "cell_type": "markdown",
   "metadata": {},
   "source": [
    "### Step 3. Plot pits with graupel in color and without in grey "
   ]
  },
  {
   "cell_type": "code",
   "execution_count": 8,
   "metadata": {
    "tags": [
     "nbsphinx-thumbnail",
     "nbsphinx-gallery"
    ]
   },
   "outputs": [
    {
     "data": {
      "image/png": "[encoded data removed]",
      "text/plain": [
       "<Figure size 720x576 with 1 Axes>"
      ]
     },
     "metadata": {
      "needs_background": "light"
     },
     "output_type": "display_data"
    }
   ],
   "source": [
    "# Close the database session to avoid hanging transactions\n",
    "session.close()\n",
    "\n",
    "# Plot the dataframe without graupel as grey and slightly transparent.\n",
    "ax = df.plot(color='steelblue', alpha=0.1, marker='v', markersize=80, edgecolor='black', label='Pits w/o Graupel', figsize=(10,8))\n",
    "\n",
    "# Plot the pits with graupel as cyan\n",
    "ax = df_graupel.plot(color='lawngreen', ax=ax, marker='v', markersize=150, edgecolor='black', label='Pits w/ Graupel')\n",
    "\n",
    "# Add a legend, x/y labels, and a title, \n",
    "ax.legend()\n",
    "ax.set_xlabel('Easting [m]')\n",
    "ax.set_ylabel('Northing [m]')\n",
    "ax.set_title('Grand Mesa Pits w/ A Graupel Layer', FontSize=16)\n",
    "\n",
    "# Plot labels in plain numbers not scientific notation (default)\n",
    "ax.ticklabel_format(style='plain', useOffset=False)\n",
    "\n",
    "# Ask matplotlib to try and avoid overlaying labels on each other\n",
    "plt.tight_layout()"
   ]
  },
  {
   "cell_type": "code",
   "execution_count": null,
   "metadata": {},
   "outputs": [],
   "source": []
  }
 ],
 "metadata": {
  "kernelspec": {
   "display_name": "Python 3",
   "language": "python",
   "name": "python3"
  },
  "language_info": {
   "codemirror_mode": {
    "name": "ipython",
    "version": 3
   },
   "file_extension": ".py",
   "mimetype": "text/x-python",
   "name": "python",
   "nbconvert_exporter": "python",
   "pygments_lexer": "ipython3",
   "version": "3.8.10"
  }
 },
 "nbformat": 4,
 "nbformat_minor": 4
}
